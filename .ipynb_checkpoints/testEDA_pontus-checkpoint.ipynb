{
 "cells": [
  {
   "cell_type": "markdown",
   "metadata": {},
   "source": [
    "# Explorative Data Analysis\n",
    "\n",
    "Pontus' notebook for testing EDA, copy successful/good ideas to main EDA"
   ]
  },
  {
   "cell_type": "code",
   "execution_count": 1,
   "metadata": {},
   "outputs": [],
   "source": [
    "# Import packages\n",
    "import json\n",
    "import pandas as pd  \n",
    "import numpy as np\n",
    "from tqdm.notebook import tqdm"
   ]
  },
  {
   "cell_type": "code",
   "execution_count": 2,
   "metadata": {},
   "outputs": [
    {
     "data": {
      "text/plain": [
       "index                                                                  0\n",
       "id                                                          id_001f94081\n",
       "sequence               GGAAAAGCUCUAAUAACAGGAGACUAGGACUACGUAUUUCUAGGUA...\n",
       "structure              .....((((((.......)))).)).((.....((..((((((......\n",
       "predicted_loop_type    EEEEESSSSSSHHHHHHHSSSSBSSXSSIIIIISSIISSSSSSHHH...\n",
       "signal_to_noise                                                    6.894\n",
       "SN_filter                                                              1\n",
       "seq_length                                                           107\n",
       "seq_scored                                                            68\n",
       "reactivity_error       [0.1359, 0.20700000000000002, 0.1633, 0.1452, ...\n",
       "deg_error_Mg_pH10      [0.26130000000000003, 0.38420000000000004, 0.1...\n",
       "deg_error_pH10         [0.2631, 0.28600000000000003, 0.0964, 0.1574, ...\n",
       "deg_error_Mg_50C       [0.1501, 0.275, 0.0947, 0.18660000000000002, 0...\n",
       "deg_error_50C          [0.2167, 0.34750000000000003, 0.188, 0.2124, 0...\n",
       "reactivity             [0.3297, 1.5693000000000001, 1.1227, 0.8686, 0...\n",
       "deg_Mg_pH10            [0.7556, 2.983, 0.2526, 1.3789, 0.637600000000...\n",
       "deg_pH10               [2.3375, 3.5060000000000002, 0.3008, 1.0108, 0...\n",
       "deg_Mg_50C             [0.35810000000000003, 2.9683, 0.2589, 1.4552, ...\n",
       "deg_50C                [0.6382, 3.4773, 0.9988, 1.3228, 0.78770000000...\n",
       "Name: 0, dtype: object"
      ]
     },
     "execution_count": 2,
     "metadata": {},
     "output_type": "execute_result"
    }
   ],
   "source": [
    "# Read data\n",
    "train = pd.read_json('data/train.json', lines=True) \n",
    "test = pd.read_json('data/test.json', lines=True) \n",
    "# Divide test data into the two subsets: Private Test and Public Test\n",
    "# seq_length=107 in Public Test while seq_length=130 in Private Test\n",
    "test_public = test[test[\"seq_length\"] == 107]\n",
    "test_private = test[test[\"seq_length\"] == 130]\n",
    "\n",
    "# Print the first sample for testing\n",
    "df = pd.DataFrame(train)\n",
    "df.iloc[0]"
   ]
  },
  {
   "cell_type": "markdown",
   "metadata": {},
   "source": [
    "\n",
    "The Kaggle challenge authors describe the different columns of the data as follows:\n",
    "\n",
    "(copied from https://www.kaggle.com/c/stanford-covid-vaccine/data?select=sample_submission.csv)\n",
    "\n",
    "\n",
    "* `id` - An arbitrary identifier for each sample.\n",
    "\n",
    "* `seq_scored` - (68 in Train and Public Test, 91 in Private Test) Integer value denoting the number of positions used in scoring with predicted values. This should match the length of reactivity, deg_* and *_error_* columns. Note that molecules used for the Private Test will be longer than those in the Train and Public Test data, so the size of this vector will be different.\n",
    "\n",
    "* `seq_length` - (107 in Train and Public Test, 130 in Private Test) Integer values, denotes the length of sequence. Note that molecules used for the Private Test will be longer than those in the Train and Public Test data, so the size of this vector will be different.\n",
    "\n",
    "* `sequence` - (1x107 string in Train and Public Test, 130 in Private Test) Describes the RNA sequence, a combination of A, G, U, and C for each sample. Should be 107 characters long, and the first 68 bases should correspond to the 68 positions specified in seq_scored (note: indexed starting at 0).\n",
    "\n",
    "* `structure` - (1x107 string in Train and Public Test, 130 in Private Test) An array of (, ), and . characters that describe whether a base is estimated to be paired or unpaired. Paired bases are denoted by opening and closing parentheses e.g. (....) means that base 0 is paired to base 5, and bases 1-4 are unpaired.\n",
    "\n",
    "* `reactivity` - (1x68 vector in Train and Public Test, 1x91 in Private Test) An array of floating point numbers, should have the same length as seq_scored. These numbers are reactivity values for the first 68 bases as denoted in sequence, and used to determine the likely secondary structure of the RNA sample.\n",
    "\n",
    "* `deg_pH10` - (1x68 vector in Train and Public Test, 1x91 in Private Test) An array of floating point numbers, should have the same length as seq_scored. These numbers are reactivity values for the first 68 bases as denoted in sequence, and used to determine the likelihood of degradation at the base/linkage after incubating without magnesium at high pH (pH 10).\n",
    "\n",
    "* `deg_Mg_pH10` - (1x68 vector in Train and Public Test, 1x91 in Private Test) An array of floating point numbers, should have the same length as seq_scored. These numbers are reactivity values for the first 68 bases as denoted in sequence, and used to determine the likelihood of degradation at the base/linkage after incubating with magnesium in high pH (pH 10).\n",
    "\n",
    "* `deg_50C` - (1x68 vector in Train and Public Test, 1x91 in Private Test) An array of floating point numbers, should have the same length as seq_scored. These numbers are reactivity values for the first 68 bases as denoted in sequence, and used to determine the likelihood of degradation at the base/linkage after incubating without magnesium at high temperature (50 degrees Celsius).\n",
    "\n",
    "* `deg_Mg_50C` - (1x68 vector in Train and Public Test, 1x91 in Private Test) An array of floating point numbers, should have the same length as seq_scored. These numbers are reactivity values for the first 68 bases as denoted in sequence, and used to determine the likelihood of degradation at the base/linkage after incubating with magnesium at high temperature (50 degrees Celsius).\n",
    "\n",
    "* `*_error_*` - An array of floating point numbers, should have the same length as the corresponding reactivity or deg_* columns, calculated errors in experimental values obtained in reactivity and deg_* columns.\n",
    "\n",
    "* `predicted_loop_type` - (1x107 string) Describes the structural context (also referred to as 'loop type')of each character in sequence. Loop types assigned by bpRNA from Vienna RNAfold 2 structure. From the bpRNA_documentation: S: paired \"Stem\" M: Multiloop I: Internal loop B: Bulge H: Hairpin loop E: dangling End X: eXternal loop\n",
    "    * `S/N filter` Indicates if the sample passed filters described in Additional Notes. (see Data under the Kaggle challenge page)\n",
    "\n",
    "\n",
    "### Notes and observations about the data\n",
    "Columns which describe the structure of each sample/molecule:\n",
    "* The samples consists of a `sequence` of bases of length `seq_length`. The four possible bases in RNA are A, G, U and C. \n",
    "* RNA molecules have pairings between some of the bases. The estimated pairings are given by `structure`. \n",
    "    * These are however only the pairings determined to be the most likely. Alternative pairings are given by the files in the folder `bpps`, described as the *base pair probabilities* for each base-base pair in the sequence given as an adjacency matrix for each sample.  \n",
    "* `predicted_loop_type` assign a loop type for each base, which describe the for that base in the sequence. For example, a paired base always (this should be confirmed with code) has loop type S for *stem loop* (see https://en.wikipedia.org/wiki/Stem-loop). Unpaired bases can have a number of different loop types, depending on the structural context of that base (how the molecule is shaped in that part of the sequence).\n",
    "    * \"Predicted\" indicates that these are only estimated loop types for the given sequence, much like how `sequence` is the most likely pairings for the sequence. One could look further into alternative loop types for alternative structures, but in the scope of the project the provided loop type should suffice.\n",
    "\n",
    "Columns which correspond to experimental ground truth values (targets in prediction):\n",
    "* There are 5 \"ground truth\" values to be predicted (targets): `reactivity`, `deg_pH10`, `deg_Mg_pH10`, `deg_50C` and `deg_Mg_50C`. They are arrays of floats, where each value describe the reactivity at a given base. They are ordered in the same way as `sequence` but have length `seq_scored`, which is smaller than `seq_length`, meaning that only the first `seq_scored` bases have ground truth (target) values. This is because the reactivity values of the final bases in the sequence can't be measured experimentally due to technical limitations.\n",
    "* Targets with names `deg_*` describe the likelihood of degradation at the base (my interpretation being the likelihood of the molecule breaking at that node), where `*` specify the conditions for the degradation rates (i.e. at 50 degrees Celcius, or in pH 10). The reactivity values in `reactivity` describe the likely *secondary structure* of the RNA molecule. (\"Secondary structure\" is a technical term, see https://en.wikipedia.org/wiki/Nucleic_acid_secondary_structure). For the purposes of this project, the 5 target values can be seen as parameters which are important for understanding the degradation of RNA molecules.\n",
    "* The 5 ground truths/targets also have corresponding vectors `reactivity_error`, `deg_error_pH10` etc., which are estimated experimental errors for the reactivity values. These could be ignored initially, but are likely useful for model performance if included in some relevant way.\n",
    "\n",
    "Note that `test.json` includes both the Public Test and Private Test data. The two subsets have to be separated by looking at the `seq_length` variable, which should be `107` for Public Test and `130` for Private Test.\n",
    "\n",
    "Also note the signal to noise, and the SN filter (these are described further on the Kaggle challenge page). Possibly want to exculde the \"noisy\" samples. \n",
    "\n",
    "### In summary\n",
    "* Each data sample is a sequence of `seq_length` bases\n",
    "* Each base `i` has the following features\n",
    "    * `sequence[i]`: char, possible values are `A`, `G`, `U`, `C`\n",
    "    * `predicted_loop_type[i]`: char, possible values are `S`, `M`, `I`, `B`, `H`, `E`, `X`\n",
    "    * `sequence[i]`: char, possible values are `.`, `(`, `)`\n",
    "* The first `seq_scored` bases of the sequence have five ground truth target values each, as well as experimental errors for those five target values\n",
    "    * `reactivity[i]`, `deg_pH10[i]`, `deg_Mg_pH10[i]`, `deg_50C[i]` and `deg_Mg_50C[i]`: floats, ground truth values for base `i`\n",
    "    * `reactivity_error[i]`, `deg_error_pH10[i]`, `deg_error_Mg_pH10[i]`, `deg_error_50C[i]` and `deg_error_Mg_50C[i]`: floats, errors of ground truth values for base `i`\n"
   ]
  },
  {
   "cell_type": "markdown",
   "metadata": {},
   "source": [
    "## Construct structure adjacency matrix from `structure`\n",
    "This is copied and adapted from https://www.kaggle.com/mrkmakr/covid-ae-pretrain-gnn-attn-cnn.\n",
    "\n",
    "Here, only paired bases from `(` `)` pairs are included as edges, and not the connections along the sequence between bases $(0,1)$, $(1,2)$ etc.\n",
    "\n",
    "The final adjacency matrix could include the following edge features:\n",
    "* Some distance measure, capturing information from sequence neighbors, diminishing with index distance (i.e. Manhattan distance)\n",
    "* The provided base pairs, given by `structure`. This is implemented in the current function\n",
    "* The given base pair probabilities, given by files in the `bpps`\n",
    "Either, one could use separate graph convolutions for each edge feature, and somehow concatenate the results before mapping to targets, for example by using some pooling layer.\n",
    "Or, one could use an encoder, to reduce the edge features to a single adjacency matrix. (This is what Sam is looking at)"
   ]
  },
  {
   "cell_type": "code",
   "execution_count": 3,
   "metadata": {},
   "outputs": [
    {
     "name": "stdout",
     "output_type": "stream",
     "text": [
      "(2400, 107, 107, 1)\n"
     ]
    }
   ],
   "source": [
    "## get adjacent matrix from structure sequence\n",
    "\n",
    "## here I calculate adjacent matrix of each base pair, \n",
    "## but eventually ignore difference of base pair and integrate into one matrix\n",
    "Ss = []\n",
    "for i in range(len(train)):\n",
    "    seq_length = train[\"seq_length\"].iloc[i]\n",
    "    structure = train[\"structure\"].iloc[i]\n",
    "    sequence = train[\"sequence\"].iloc[i]\n",
    "\n",
    "    cue = []\n",
    "    a_structures = {\n",
    "        (\"A\", \"U\") : np.zeros([seq_length, seq_length]),\n",
    "        (\"C\", \"G\") : np.zeros([seq_length, seq_length]),\n",
    "        (\"U\", \"G\") : np.zeros([seq_length, seq_length]),\n",
    "        (\"U\", \"A\") : np.zeros([seq_length, seq_length]),\n",
    "        (\"G\", \"C\") : np.zeros([seq_length, seq_length]),\n",
    "        (\"G\", \"U\") : np.zeros([seq_length, seq_length]),\n",
    "    }\n",
    "    a_structure = np.zeros([seq_length, seq_length])\n",
    "    for i in range(seq_length):\n",
    "        if structure[i] == \"(\":\n",
    "            cue.append(i)\n",
    "        elif structure[i] == \")\":\n",
    "            start = cue.pop()\n",
    "#                 a_structure[start, i] = 1\n",
    "#                 a_structure[i, start] = 1\n",
    "            a_structures[(sequence[start], sequence[i])][start, i] = 1\n",
    "            a_structures[(sequence[i], sequence[start])][i, start] = 1\n",
    "    \n",
    "    a_strc = np.stack([a for a in a_structures.values()], axis = 2)\n",
    "    a_strc = np.sum(a_strc, axis = 2, keepdims = True)\n",
    "    Ss.append(a_strc)\n",
    "\n",
    "Ss = np.array(Ss)\n",
    "print(Ss.shape)"
   ]
  },
  {
   "cell_type": "markdown",
   "metadata": {},
   "source": [
    "The resulting adjacency matrix is stored as `Ss`. \n",
    "All pairs are treated equally, the `(\"A\", \"U\")` arrays are concatenated into one adjacency matrix.\n",
    "\n",
    "The shape of `Ss` is `(number_of_samples, seq_length, seq_length, 1)`.\n",
    "In their implementation, the last dimension is later used for stacking multiple adjacency matrices with different information, e.g. distance adjacency matrix and base-pair probability adjacency matrices."
   ]
  },
  {
   "cell_type": "code",
   "execution_count": 4,
   "metadata": {},
   "outputs": [
    {
     "data": {
      "text/plain": [
       "46"
      ]
     },
     "execution_count": 4,
     "metadata": {},
     "output_type": "execute_result"
    }
   ],
   "source": [
    "# Check number of pairs (edges)\n",
    "np.sum(Ss[0,:,:,0] == 1)"
   ]
  },
  {
   "cell_type": "code",
   "execution_count": 5,
   "metadata": {},
   "outputs": [
    {
     "data": {
      "text/plain": [
       "23"
      ]
     },
     "execution_count": 5,
     "metadata": {},
     "output_type": "execute_result"
    }
   ],
   "source": [
    "# Count number of \"(\", should be half of number of pairs\n",
    "np.sum(Ss[0,:,:,0] == 1)\n",
    "counter_left_pair = 0\n",
    "for char in train[\"structure\"].iloc[0]:\n",
    "  if char == \"(\":\n",
    "    counter_left_pair += 1\n",
    "counter_left_pair"
   ]
  },
  {
   "cell_type": "code",
   "execution_count": 6,
   "metadata": {},
   "outputs": [],
   "source": [
    "Ss[0,:,:,0]\n",
    "struct_adj = Ss[0,:,:,0] # Reshape to (seq_length,seq_length)"
   ]
  },
  {
   "cell_type": "markdown",
   "metadata": {},
   "source": [
    "### Rewrite function that creates adjacency matrix, only including necessary steps"
   ]
  },
  {
   "cell_type": "code",
   "execution_count": 7,
   "metadata": {},
   "outputs": [],
   "source": [
    "def get_struct_adj(data = train, sequential_edges = False):\n",
    "    # Get adjacency matrix from sample structure sequence\n",
    "    # Include edges between base pairs\n",
    "    # If sequential_edges == False, do not include edges between sequential bases\n",
    "    # If sequential_edges == True, add these edges, which correspond to the diagonals -1 and 1 in the adjacency matrix (assuming undirected edges)\n",
    "    struct_adj = []\n",
    "    for ix in range(len(data)):\n",
    "        seq_length = data[\"seq_length\"].iloc[ix]\n",
    "        structure = data[\"structure\"].iloc[ix]\n",
    "        sequence = data[\"sequence\"].iloc[ix]\n",
    "\n",
    "        queue = [] # Store indices corresponding to \"(\" in queue\n",
    "\n",
    "        sample_struct_adj = np.zeros([seq_length, seq_length])\n",
    "        for jx in range(seq_length):\n",
    "            if structure[jx] == \"(\":\n",
    "                queue.append(jx) # Append index of \"(\" in base pair to queue\n",
    "            elif structure[jx] == \")\":\n",
    "                start = queue.pop() # Retrieve index of last \"(\" in queue, corresponding to \")\" at jx\n",
    "                sample_struct_adj[start, jx] = 1 # Add edge from \"(\" to \")\"\n",
    "                sample_struct_adj[jx, start] = 1 # Add edge from \")\" to \"(\" (assume undirected)\n",
    "\n",
    "        if sequential_edges == True:\n",
    "            ones = np.ones(seq_length-1) # Match length of -1 and 1 diagonals in sample_struct_adj\n",
    "            sample_struct_adj += np.diag(ones,1) # Add sequential edges (i,i+1) \n",
    "            sample_struct_adj += np.diag(ones,-1) # Add sequential edges (i+1,i) (assume non-directed)\n",
    "\n",
    "        struct_adj.append(sample_struct_adj)\n",
    "\n",
    "    struct_adj = np.array(struct_adj)\n",
    "    return struct_adj "
   ]
  },
  {
   "cell_type": "code",
   "execution_count": 8,
   "metadata": {},
   "outputs": [
    {
     "name": "stdout",
     "output_type": "stream",
     "text": [
      "(2400, 107, 107)\n",
      "(2400, 107, 107, 1)\n"
     ]
    },
    {
     "data": {
      "text/plain": [
       "True"
      ]
     },
     "execution_count": 8,
     "metadata": {},
     "output_type": "execute_result"
    }
   ],
   "source": [
    "mySs = get_struct_adj(data = train)\n",
    "print(mySs.shape)\n",
    "mySs = mySs[:,:,:,np.newaxis] # Reshape to match structure adjacency from reference\n",
    "print(mySs.shape)\n",
    "\n",
    "# Check that the implementation is equivalent to reference\n",
    "np.array_equal(Ss,mySs)"
   ]
  },
  {
   "cell_type": "markdown",
   "metadata": {},
   "source": [
    "## Try to plot the graph from adjacency matrix\n",
    "Include off-diagonal ones for sequential edges"
   ]
  },
  {
   "cell_type": "code",
   "execution_count": 9,
   "metadata": {},
   "outputs": [
    {
     "data": {
      "image/png": "[encoded data removed]",
      "text/plain": [
       "<Figure size 432x288 with 1 Axes>"
      ]
     },
     "metadata": {},
     "output_type": "display_data"
    }
   ],
   "source": [
    "import networkx as nx \n",
    "  \n",
    "A  =  get_struct_adj(data=train, sequential_edges=True) # Include sequential edges\n",
    "A = A[0,:,:] # Take adjacency matrix of first sample\n",
    "\n",
    "# ones = np.ones(seq_length-1)\n",
    "# A += np.diag(ones,1) # add sequential edges (i,i+1) \n",
    "# A += np.diag(ones,-1) # add sequential edges (i+1,i) (assume non-directed)\n",
    "\n",
    "G = nx.from_numpy_matrix(np.array(A))\n",
    "nx.draw(G, with_labels=True)"
   ]
  },
  {
   "cell_type": "code",
   "execution_count": 10,
   "metadata": {},
   "outputs": [
    {
     "data": {
      "image/png": "[encoded data removed]",
      "text/plain": [
       "<Figure size 432x288 with 1 Axes>"
      ]
     },
     "metadata": {},
     "output_type": "display_data"
    }
   ],
   "source": [
    "#  Try to make graph non-overlapping?\n",
    "spring = nx.spring_layout(G)\n",
    "nx.draw_networkx(G,spring)"
   ]
  },
  {
   "cell_type": "markdown",
   "metadata": {},
   "source": [
    "## Look at bpps (first sample in training data)"
   ]
  },
  {
   "cell_type": "code",
   "execution_count": 11,
   "metadata": {},
   "outputs": [
    {
     "name": "stdout",
     "output_type": "stream",
     "text": [
      "(107, 107)\n"
     ]
    }
   ],
   "source": [
    "a = np.load('data/bpps/id_001f94081.npy') \n",
    "print(a.shape)"
   ]
  },
  {
   "cell_type": "code",
   "execution_count": 12,
   "metadata": {},
   "outputs": [],
   "source": [
    "# Look at edges for one of the paired bases (row index 5)\n",
    "struct_adj[5,:]\n",
    "bpps_base5 = a[5,:]"
   ]
  },
  {
   "cell_type": "code",
   "execution_count": 13,
   "metadata": {},
   "outputs": [
    {
     "data": {
      "text/plain": [
       "(array([24], dtype=int64),)"
      ]
     },
     "execution_count": 13,
     "metadata": {},
     "output_type": "execute_result"
    }
   ],
   "source": [
    "np.where(struct_adj[5,:] == 1) # Find pair of base with index 5"
   ]
  },
  {
   "cell_type": "code",
   "execution_count": 14,
   "metadata": {},
   "outputs": [
    {
     "data": {
      "text/plain": [
       "24"
      ]
     },
     "execution_count": 14,
     "metadata": {},
     "output_type": "execute_result"
    }
   ],
   "source": [
    "np.argmax(bpps_base5) # Find maximum base pair probability for base with index 5"
   ]
  },
  {
   "cell_type": "markdown",
   "metadata": {},
   "source": [
    "Maximum bpps value matches the true adjacency matrix (for this sample at least). Suggests that the predicted structure is based on the most likely base pairs from bpps."
   ]
  },
  {
   "cell_type": "markdown",
   "metadata": {},
   "source": [
    "## Distance matrix in reference notebook \n",
    "How the distance adjacency matrix is constructed in https://www.kaggle.com/mrkmakr/covid-ae-pretrain-gnn-attn-cnn#distance-adjhttps://www.kaggle.com/mrkmakr/covid-ae-pretrain-gnn-attn-cnn#distance-adj"
   ]
  },
  {
   "cell_type": "code",
   "execution_count": 15,
   "metadata": {},
   "outputs": [
    {
     "name": "stdout",
     "output_type": "stream",
     "text": [
      "[  0   1   2   3   4   5   6   7   8   9  10  11  12  13  14  15  16  17\n",
      "  18  19  20  21  22  23  24  25  26  27  28  29  30  31  32  33  34  35\n",
      "  36  37  38  39  40  41  42  43  44  45  46  47  48  49  50  51  52  53\n",
      "  54  55  56  57  58  59  60  61  62  63  64  65  66  67  68  69  70  71\n",
      "  72  73  74  75  76  77  78  79  80  81  82  83  84  85  86  87  88  89\n",
      "  90  91  92  93  94  95  96  97  98  99 100 101 102 103 104 105 106]\n",
      "(1, 107, 107)\n",
      "(2400, 107, 107)\n",
      "(2400, 107, 107, 3)\n"
     ]
    }
   ],
   "source": [
    "# Example snippet of creating distance matrix for training sample, where seq_length=107\n",
    "idx = np.arange(train[\"seq_length\"].iloc[0])\n",
    "Ds = []\n",
    "for i in range(len(idx)):\n",
    "    d = np.abs(idx[i] - idx)\n",
    "    Ds.append(d)\n",
    "print(Ds[0]) # Before converting absolute index distance to distance measure\n",
    "# Here Ds is a list of seq_length arrays, each with length seq_length\n",
    "\n",
    "Ds = np.array(Ds) + 1\n",
    "Ds = 1/Ds\n",
    "Ds = Ds[None, :,:] # Expand the dimensions of the array to allow stacking matrices for all samples \n",
    "print(Ds.shape)\n",
    "Ds = np.repeat(Ds, len(train), axis = 0) # Repeat the distance array for each sample (even though they are identical)\n",
    "# Here, Ds is transformed to the distance measured and reshaped into adjacency matrices for each sample, with values being the distance measure between nodes\n",
    "print(Ds.shape)\n",
    "\n",
    "Dss = []\n",
    "for i in [1, 2, 4]: \n",
    "    Dss.append(Ds ** i)\n",
    "Ds = np.stack(Dss, axis = 3)\n",
    "print(Ds.shape)\n",
    "# Here, the power in the denominator of the distance measure expression is applied, resulting in 3 different distance adjacency matrices for each sample"
   ]
  },
  {
   "cell_type": "markdown",
   "metadata": {},
   "source": [
    "The distance matrices are equal for every sample in a given data set, the only inputs are the length of the sample. In the reference notebook, they use `As` (the stacked array of base-pair probability matrices) as an argument when constructing the distance matrix, but `As` is only used to determine `seq_length` and the number of samples in each data subset. The distance between bases at indices $i$ and $j$ is defined as\n",
    "\n",
    "$$D(i,j) = \\frac{1}{(|i - j| + 1)^p}$$\n",
    "\n",
    "where $p$ is set to $1$, $2$ and $4$, giving three different measures of distance. The resulting distance adjacency matrices are stacked together with the structure adjacency matrix and the base-pair probability matrices given by the files in the `bpps` folder."
   ]
  },
  {
   "cell_type": "markdown",
   "metadata": {},
   "source": [
    "## Construct node feature vectors/arrays\n",
    "\n",
    "Looked at node feature array in reference notebook, but things seemed overly complicated. Will implement it myself, and can compare later to make sure that everything is understood correctly.\n",
    "\n",
    "Currently, the included node features are:\n",
    "\n",
    "* The base of the node, one-hot encoded. One of `'A'`, `'G'`, `'U'`, `'C'` (4 features)\n",
    "* The provided predicted loop type of the node, one-hot encoded. One of `'S'`, `'M'`, `'I'`, `'B'`, `'H'`, `'E'`, `'X'` (7 features)\n",
    "\n",
    "This results in a total of 11 node features. One could of course include more node features. These are the provided obvious ones."
   ]
  },
  {
   "cell_type": "code",
   "execution_count": 16,
   "metadata": {},
   "outputs": [],
   "source": [
    "def get_node_features(data = train):\n",
    "    # Create a node feature matrix for each sample in data\n",
    "    # Encode feature vectors as one-hot arrays  \n",
    "    # Included features: \n",
    "    #   Base (given by sequence)\n",
    "    #   Loop type (given by predicted_loop_type)\n",
    "    # Could also include sequence, i.e. \".\" \"(\" and \")\", but I don't see how this provides any interesting information if the structure adjacency matrix is used\n",
    "    X = [] # Stacked node feature matrices for all samples in data\n",
    "    \n",
    "    for ix in range(len(data)):\n",
    "        seq_length = data[\"seq_length\"].iloc[ix]\n",
    "        sequence = train[\"sequence\"].iloc[ix]\n",
    "        predicted_loop_type = train[\"predicted_loop_type\"].iloc[ix]\n",
    "\n",
    "        X_sample = [] # Node feature matrix for current sample\n",
    "\n",
    "        for jx in range(seq_length):\n",
    "            # Base one hot\n",
    "            bases = np.array(['A', 'G', 'U', 'C']) # Different order than reference notebook (A,G,C,U)\n",
    "            x_base = np.zeros(len(bases))\n",
    "            x_base[bases == sequence[jx]] = 1 # Set base one-hot to 1 at correct index\n",
    "\n",
    "            # Predicted Loop Type one hot\n",
    "            loop_types = np.array(['S', 'M', 'I', 'B', 'H', 'E', 'X'])\n",
    "            x_loop = np.zeros(len(loop_types))\n",
    "            x_loop[loop_types == predicted_loop_type[jx]] = 1 # Set loop-type one-hot to 1 at correct index\n",
    "\n",
    "            x = np.concatenate((x_base,x_loop)) # Concatenate to one node feature vector\n",
    "            X_sample.append(x) # Append node feature vector to node feature matrix\n",
    "        X_sample = np.array(X_sample)\n",
    "        X.append(X_sample) # Append node feature matrix for current graph\n",
    "    X = np.array(X)\n",
    "    return X\n",
    "X_tr = get_node_features(train)"
   ]
  },
  {
   "cell_type": "code",
   "execution_count": 17,
   "metadata": {},
   "outputs": [
    {
     "name": "stdout",
     "output_type": "stream",
     "text": [
      "(2400, 107, 11)\n",
      "[0. 1. 0. 0. 1. 0. 0. 0. 0. 0. 0.]\n",
      "G\n",
      "S\n"
     ]
    }
   ],
   "source": [
    "print(X_tr.shape)\n",
    "# Print feature vector of node 42 in sample 0 to see that the function assigns one hot correctly\n",
    "print(X_tr[0,42])\n",
    "print(train[\"sequence\"].iloc[0][42])\n",
    "print(train[\"predicted_loop_type\"].iloc[0][42])\n",
    "# First 4 are sequence one hot, last 7 are loop type one hot"
   ]
  },
  {
   "cell_type": "markdown",
   "metadata": {},
   "source": [
    "Try using reference notebook implementation of node features for comparison."
   ]
  },
  {
   "cell_type": "code",
   "execution_count": 18,
   "metadata": {},
   "outputs": [
    {
     "name": "stdout",
     "output_type": "stream",
     "text": [
      "[17, 18, 20, 24, 33, 34, 36, 40, 65, 66, 68, 72, 129, 130, 132, 136, 257, 258, 260, 264, 513, 514, 516, 520, 1025, 1026, 1028, 1032]\n",
      "(2400, 107, 39)\n"
     ]
    }
   ],
   "source": [
    "## sequence\n",
    "def return_ohe(n, i):\n",
    "    tmp = [0] * n\n",
    "    tmp[i] = 1\n",
    "    return tmp\n",
    "\n",
    "def get_input(train):\n",
    "    ## get node features, which is one hot encoded\n",
    "    mapping = {}\n",
    "    vocab = [\"A\", \"G\", \"C\", \"U\"]\n",
    "    for i, s in enumerate(vocab):\n",
    "        mapping[s] = return_ohe(len(vocab), i)\n",
    "    X_node = np.stack(train[\"sequence\"].apply(lambda x : list(map(lambda y : mapping[y], list(x)))))\n",
    "\n",
    "    mapping = {}\n",
    "    vocab = [\"S\", \"M\", \"I\", \"B\", \"H\", \"E\", \"X\"]\n",
    "    for i, s in enumerate(vocab):\n",
    "        mapping[s] = return_ohe(len(vocab), i)\n",
    "    X_loop = np.stack(train[\"predicted_loop_type\"].apply(lambda x : list(map(lambda y : mapping[y], list(x)))))\n",
    "    \n",
    "    mapping = {}\n",
    "    vocab = [\".\", \"(\", \")\"]\n",
    "    for i, s in enumerate(vocab):\n",
    "        mapping[s] = return_ohe(len(vocab), i)\n",
    "    X_structure = np.stack(train[\"structure\"].apply(lambda x : list(map(lambda y : mapping[y], list(x)))))\n",
    "    \n",
    "    \n",
    "    X_node = np.concatenate([X_node, X_loop], axis = 2)\n",
    "    \n",
    "    ## interaction\n",
    "    a = np.sum(X_node * (2 ** np.arange(X_node.shape[2])[None, None, :]), axis = 2)\n",
    "    vocab = sorted(set(a.flatten()))\n",
    "    print(vocab)\n",
    "    ohes = []\n",
    "    for v in vocab:\n",
    "        ohes.append(a == v)\n",
    "    ohes = np.stack(ohes, axis = 2)\n",
    "    X_node = np.concatenate([X_node, ohes], axis = 2).astype(np.float32)\n",
    "    \n",
    "    \n",
    "    print(X_node.shape)\n",
    "    return X_node\n",
    "\n",
    "X_node = get_input(train)"
   ]
  },
  {
   "cell_type": "code",
   "execution_count": 19,
   "metadata": {},
   "outputs": [
    {
     "name": "stdout",
     "output_type": "stream",
     "text": [
      "[0. 1. 0. 0. 1. 0. 0. 0. 0. 0. 0.]\n",
      "[0. 1. 0. 0. 1. 0. 0. 0. 0. 0. 0. 0. 1. 0. 0. 0. 0. 0. 0. 0. 0. 0. 0. 0.\n",
      " 0. 0. 0. 0. 0. 0. 0. 0. 0. 0. 0. 0. 0. 0. 0.]\n"
     ]
    }
   ],
   "source": [
    "print(X_tr[0,42])\n",
    "print(X_node[0,42])"
   ]
  },
  {
   "cell_type": "markdown",
   "metadata": {},
   "source": [
    "Encoding of base and loop types are identical apart from ordering of bases (AGUC here, AGCU in reference). Reference uses one additional one-hot encoded feature called \"interaction\" with 28 possible values. Could look into what this is and if it is of interest."
   ]
  },
  {
   "cell_type": "markdown",
   "metadata": {},
   "source": [
    "## Construct target arrays\n",
    "Include all 5 targets, even though only 3 are scored, as this can be expected to improve the inference on the test data. This is equivalent to reference notebook, but there they expand the target vectors to match `seq_length` with entries -10000 for the unknown target values. This is maybe a more convenient way to implement it, to have consisten sizes of all arrays."
   ]
  },
  {
   "cell_type": "code",
   "execution_count": 20,
   "metadata": {},
   "outputs": [
    {
     "name": "stdout",
     "output_type": "stream",
     "text": [
      "(2400, 68, 5)\n"
     ]
    }
   ],
   "source": [
    "target_labels = [\"reactivity\", \"deg_Mg_pH10\", \"deg_Mg_50C\", \"deg_pH10\", \"deg_50C\"]\n",
    "\n",
    "y_train = []\n",
    "seq_length = train[\"seq_length\"].iloc[0] # Get number of nodes (lenght of sequence)\n",
    "seq_scored = train[\"seq_scored\"].iloc[0] # Get number of nodes with ground truth targets\n",
    "for target in target_labels:\n",
    "    y = np.vstack(train[target]) # Create (n_samples, seq_scored) arrays for each target\n",
    "    y_train.append(y) # Append array for each target\n",
    "y_train = np.stack(y_train, axis=2) # Join the target arrays along last axis to match shape of feature arrays\n",
    "print(y_train.shape)\n"
   ]
  },
  {
   "cell_type": "markdown",
   "metadata": {},
   "source": [
    "## Try to implement a graph neural network\n",
    "Use feature matrix and adjacency matrix (only pair edges) from training data for initial test.\n",
    "\n",
    "Start with network architecture from Homework A, dataset 2. We are essentially doing supervised graph classification, but we want to keep the labels for each node. This is similar to what was done in Homework A, except that we don't want to use a final pooling layer to classify the enitre graph. Instead, we keep the target vector from each node and calculate a loss from that, so each graph gives a single loss value (for example mean columnwise root mean square error, MCRMSE). \n"
   ]
  },
  {
   "cell_type": "code",
   "execution_count": 21,
   "metadata": {},
   "outputs": [
    {
     "name": "stdout",
     "output_type": "stream",
     "text": [
      "(2400, 107, 11)\n",
      "(2400, 107, 107)\n"
     ]
    }
   ],
   "source": [
    "X = get_node_features(train)\n",
    "print(X.shape)\n",
    "A_pairs = get_struct_adj(data = train)\n",
    "print(A_pairs.shape)"
   ]
  },
  {
   "cell_type": "code",
   "execution_count": 22,
   "metadata": {},
   "outputs": [],
   "source": [
    "import torch\n",
    "from torch.nn import Linear\n",
    "from torch.nn import ReLU\n",
    "import torch.nn.functional as F"
   ]
  },
  {
   "cell_type": "code",
   "execution_count": 23,
   "metadata": {},
   "outputs": [],
   "source": [
    "# Need to install CUDA, or some missing path problem. Skip torch-geometric for now, can write GraphConv manually\n",
    "# !pip install -q torch-scatter -f https://pytorch-geometric.com/whl/torch-1.8.1+cpu.html\n",
    "# !pip install -q torch-sparse -f https://pytorch-geometric.com/whl/torch-1.8.1+cpu.html\n",
    "# !pip install -q torch-geometric\n",
    "\n",
    "# from torch_geometric.nn import GraphConv\n",
    "# from torch_geometric.nn import global_mean_pool\n",
    "# from torch.nn import LogSoftmax"
   ]
  },
  {
   "cell_type": "markdown",
   "metadata": {},
   "source": [
    "Define the graph convolution operator. Due to trouble with installation of torch-geometric, I'll write my own GraphConv operator. "
   ]
  },
  {
   "cell_type": "code",
   "execution_count": 24,
   "metadata": {},
   "outputs": [],
   "source": [
    "class myGraphConv(torch.nn.Module):\n",
    "    \"\"\"\n",
    "    The graph neural network operator from the “Weisfeiler and Leman Go \n",
    "    Neural: Higher-order Graph Neural Networks” paper\n",
    "\n",
    "    x' = x_i W_1.T + (Adj x_i) W_2.T\n",
    "\n",
    "    Arguments:\n",
    "        in_channels (int): Number of features (size) of each input node\n",
    "        out_channels (int): Number of features (size) of each output node\n",
    "    \n",
    "    forward performs the graph neural network operation\n",
    "    Arguments:\n",
    "        x (torch tensor): The input node features of shape (n_nodes, in_channels) \n",
    "        Adj (torch tensor): The adjacency matrix of the graph of shape (n_nodes, n_nodes) \n",
    "    Returns: \n",
    "        x' (torch tensor): Output node feature matrix of shape (n_nodes, out_channels)\n",
    "    \"\"\"\n",
    "    # Notes:\n",
    "    ## Possibly change to allow x of shape (n_samples, n_nodes, in_channels) \n",
    "    ## and Adj of shape (n_samples, n_nodes, n_nodes).\n",
    "    ## Also should add boolean argument bias for the linear weights.\n",
    "    ## GraphConv seems to only use bias for W_2 if I understand the source code correctly\n",
    "    ## (see lin_r = ... bias=False).a\n",
    "\n",
    "\n",
    "    def __init__(self, in_channels, out_channels):\n",
    "        super(myGraphConv, self).__init__()\n",
    "\n",
    "        self.in_channels = in_channels\n",
    "        self.out_channels = out_channels\n",
    "\n",
    "        self.lin_1 = Linear(in_channels, out_channels, bias=True) # bias=False to match GraphConv? Check source code\n",
    "        self.lin_2 = Linear(in_channels, out_channels, bias=True)  \n",
    "\n",
    "        self.reset_parameters()\n",
    "   \n",
    "    def reset_parameters(self):\n",
    "        self.lin_1.reset_parameters()\n",
    "        self.lin_2.reset_parameters()\n",
    "\n",
    "    def forward(self, x, Adj):\n",
    "        # Shapes of arguments, weight matrices and output\n",
    "        # x: (n_nodes, in_channels)\n",
    "        # Adj: (n_nodes, n_nodes)\n",
    "        # W_1: (in_channels, out_channels)\n",
    "        # W_2: (in_channels, out_channels)\n",
    "        # out: (n_nodes, out_channels)\n",
    "        out = torch.matmul(Adj,x) # Calculate contributions from adjacent nodes, this is equivalent to summing over edge weights assuming Adj contains the edge weights\n",
    "        out = self.lin_2(out) # Multiply with weight matrix for adjacent nodes\n",
    "        out += self.lin_1(x) # Add contribution from self\n",
    "        return out\n",
    "\n",
    "    # The method that returns a printable representation of the operator, copy to match GraphConv source code \n",
    "    def __repr__(self):\n",
    "        return '{}({}, {})'.format(self.__class__.__name__, self.in_channels,\n",
    "                                   self.out_channels)\n"
   ]
  },
  {
   "cell_type": "markdown",
   "metadata": {},
   "source": [
    "Build the model. As a starting point, modify the code from Homework A, dataset 2. Use a simple model to begin with."
   ]
  },
  {
   "cell_type": "code",
   "execution_count": 25,
   "metadata": {},
   "outputs": [],
   "source": [
    "class GNN(torch.nn.Module):\n",
    "    def __init__(self, hidden_channels):\n",
    "        super(GNN, self).__init__()\n",
    "        torch.manual_seed(12345) # For reproducible results\n",
    "        self.conv = myGraphConv(X.shape[2], hidden_channels) # This uses my implementation of GraphConv. Change to torch-geometric version when possible\n",
    "        self.lin = Linear(hidden_channels, 5) # Map to the 5 output targets with dense layer\n",
    "        self.relu = ReLU()\n",
    "\n",
    "    def forward(self, x, Adj):\n",
    "        # 1. Obtain node embeddings, use GraphConv layers with ReLU for non-linearity\n",
    "        x = self.conv(x, Adj) # Give adjacency matrix instead of edge_index and edge_weight\n",
    "        x = self.relu(x)\n",
    "\n",
    "        # 2. Readout layer\n",
    "        # No pooling is required, we want target labels for each node, not for the entire graph\n",
    "\n",
    "        # 3. Apply a final classifier \n",
    "        # Use a single layer as classifier to map to the targets\n",
    "        x = self.lin(x)\n",
    "\n",
    "        # No LogSoftmax needed, possibly some other function to map to correct targets?\n",
    "\n",
    "        return x\n",
    "    "
   ]
  },
  {
   "cell_type": "markdown",
   "metadata": {},
   "source": [
    "Define the mean column-wise root mean square error (MCRMSE) loss function, which is the score used in the challenge. Note that while there are 5 targets to be predicted, only three of them are scored: reactivity, degMgpH10, and degMg50C. One could either use all 5 in loss, or just the scored targets to minimize the actual Kaggle challenge score. \n",
    "It is probably a good idea to use all targets for the loss during training, as the additional information could improve the inference on the scored targets for the test data.\n",
    "\n"
   ]
  },
  {
   "cell_type": "code",
   "execution_count": 26,
   "metadata": {},
   "outputs": [],
   "source": [
    "# Define MCRMSE loss function\n",
    "# Include all 5 targets by default, allow optional argument to calculate MCRMSE of scored targets only.\n",
    "# Assumes targets are ordered such that the first 3 targets are the scored ones.\n",
    "# Inputs should have dimensions (n_samples, n_nodes, n_targets)\n",
    "def MCRMSE(y_true, y_pred, only_scored=False):\n",
    "    # Extract the scored targets\n",
    "    seq_scored = train[\"seq_scored\"].iloc[0] # Get number of nodes with ground truth targets\n",
    "    y_pred = y_pred[:, :seq_scored, :] \n",
    "    # true = y_true[:, :seq_scored, :] # Not necessary since only scored targets are included, could include dummy values instead as in reference notebook\n",
    "\n",
    "    y_diff = y_pred - y_true\n",
    "    mse = torch.mean(y_diff**2, axis=1) # Average over nodes in each sample for every target\n",
    "    rmse = torch.sqrt(mse)\n",
    "    \n",
    "    num_scored = 5 # Include all targets by default\n",
    "    if only_scored == True:\n",
    "        num_scored = 3 # Include only scored targets if specified by keyword (assumes correct ordering of targets in y_true and y_pred)\n",
    "\n",
    "    mcrmse = torch.mean(rmse[:, :num_scored], axis=1) # Average over included targets\n",
    "\n",
    "    return mcrmse"
   ]
  },
  {
   "cell_type": "markdown",
   "metadata": {},
   "source": [
    "Also write a loss function that takes one sample at a time for testing. Merge to one/use the above one when we actually pass batches of data, this is just for a test run."
   ]
  },
  {
   "cell_type": "code",
   "execution_count": 27,
   "metadata": {},
   "outputs": [],
   "source": [
    "# Define MCRMSE loss function, taking one sample at a time \n",
    "# Inputs should have dimensions (n_nodes, n_targets)\n",
    "def MCRMSE_single(y_true, y_pred, only_scored=False):\n",
    "    # Extract the scored targets\n",
    "    seq_scored = train[\"seq_scored\"].iloc[0] # Get number of nodes with ground truth targets\n",
    "    y_pred = y_pred[:seq_scored, :] \n",
    "    # true = y_true[:seq_scored, :] # Not necessary since only scored targets are included, could include dummy values instead as in reference notebook\n",
    "\n",
    "    y_diff = y_pred - y_true\n",
    "    mse = torch.mean(y_diff**2, axis=0) # Average over nodes in each sample for every target\n",
    "    rmse = torch.sqrt(mse)\n",
    "    \n",
    "    num_scored = 5 # Include all targets by default\n",
    "    if only_scored == True:\n",
    "        num_scored = 3 # Include only scored targets if specified by keyword (assumes correct ordering of targets in y_true and y_pred)\n",
    "\n",
    "    mcrmse = torch.mean(rmse[:num_scored]) # Average over included targets\n",
    "\n",
    "    return mcrmse"
   ]
  },
  {
   "cell_type": "markdown",
   "metadata": {},
   "source": [
    "Train the network on the training data. For a simple test run, iterate over single samples in the training data. When improving the training routine, we probably want to allow for iteration over batches of data, for example as in k-fold cv. "
   ]
  },
  {
   "cell_type": "code",
   "execution_count": 28,
   "metadata": {
    "tags": []
   },
   "outputs": [
    {
     "name": "stdout",
     "output_type": "stream",
     "text": [
      "GNN(\n",
      "  (conv): myGraphConv(11, 64)\n",
      "  (lin): Linear(in_features=64, out_features=5, bias=True)\n",
      "  (relu): ReLU()\n",
      ")\n",
      "[sample   200] loss: 0.606\n",
      "[sample   400] loss: 0.561\n",
      "[sample   600] loss: 0.582\n",
      "[sample   800] loss: 0.573\n",
      "[sample  1000] loss: 0.550\n",
      "[sample  1200] loss: 0.590\n",
      "[sample  1400] loss: 0.584\n",
      "[sample  1600] loss: 0.657\n",
      "[sample  1800] loss: 0.542\n",
      "[sample  2000] loss: 0.515\n",
      "[sample  2200] loss: 0.655\n",
      "[sample  2400] loss: 0.614\n"
     ]
    }
   ],
   "source": [
    "# Instantiate GNN model, optimizer and loss function\n",
    "model = GNN(hidden_channels=64)\n",
    "print(model)\n",
    "optimizer = torch.optim.Adam(model.parameters(), lr=0.01) # Adjust learning rate\n",
    "criterion = MCRMSE_single # Mean column-wise root mean square error (MCRMSE) loss\n",
    "\n",
    "# Define trainer function for GNN\n",
    "def run_training(X_data, Adj_data):\n",
    "    model.train()\n",
    "    running_loss = 0 # For printing training loss\n",
    "    for ix in range(len(X_data)):  # Iterate over samples in the training dataset\n",
    "        out = model(X_data[ix,:,:], Adj_data[ix,:,:]) # Perform a single forward pass.\n",
    "    # out = model(X_data, Adj_data) # all in one pass, no for loop\n",
    "        loss = criterion(torch.tensor(y_train[ix,:,:].astype(float)), out)  # Compute the loss. Convert target vector to float (apparently important for back-propagation)\n",
    "        loss.backward()  # Derive gradients\n",
    "        optimizer.step()  # Update parameters based on gradients\n",
    "        optimizer.zero_grad()  # Clear gradients\n",
    "\n",
    "        # Print statistics\n",
    "        running_loss += loss.item()\n",
    "        if ix % 200 == 199:    # Print average loss every 200 mini-batches (every 200 samples in this case)\n",
    "            print('[sample %5d] loss: %.3f' %\n",
    "                    (ix + 1, running_loss / 200))\n",
    "            running_loss = 0.0 # Reset running loss\n",
    "# Convert training data inputs to pytorch tensors and run training\n",
    "X_torch = torch.tensor(X.astype(np.float32))\n",
    "Adj_torch = torch.tensor(A_pairs.astype(np.float32))\n",
    "run_training(X_torch, Adj_torch)\n"
   ]
  },
  {
   "cell_type": "markdown",
   "metadata": {},
   "source": [
    "Generate feature arrays and adjacency matrix for public test data. Make predictions on the test data using the trained model."
   ]
  },
  {
   "cell_type": "code",
   "execution_count": 29,
   "metadata": {},
   "outputs": [
    {
     "name": "stdout",
     "output_type": "stream",
     "text": [
      "(629, 107, 11)\n",
      "(629, 107, 107)\n"
     ]
    }
   ],
   "source": [
    "X_test_public = get_node_features(data = test_public)\n",
    "print(X_test_public.shape)\n",
    "A_test_public = get_struct_adj(data = test_public)\n",
    "print(A_test_public.shape)"
   ]
  },
  {
   "cell_type": "markdown",
   "metadata": {},
   "source": [
    "Make predictions on test data."
   ]
  },
  {
   "cell_type": "code",
   "execution_count": 30,
   "metadata": {},
   "outputs": [],
   "source": [
    "# Define prediction function\n",
    "def run_prediction(X_data, Adj_data):\n",
    "    model.eval()\n",
    "    y_pred = []\n",
    "    for ix in range(len(X_data)): \n",
    "        out = model(X_data[ix,:,:], Adj_data[ix,:,:]) # Perform a single forward pass.\n",
    "        y_pred.append(out.detach().numpy())\n",
    "    y_pred = np.array(y_pred)\n",
    "    return y_pred\n",
    "# Convert test data inputs to pytorch tensors and run prediction\n",
    "X_test_public_torch = torch.tensor(X_test_public.astype(np.float32))\n",
    "A_test_public_torch = torch.tensor(A_test_public.astype(np.float32))\n",
    "y_pred = run_prediction(X_test_public_torch, A_test_public_torch)\n"
   ]
  },
  {
   "cell_type": "code",
   "execution_count": 31,
   "metadata": {},
   "outputs": [
    {
     "name": "stdout",
     "output_type": "stream",
     "text": [
      "(629, 107, 5)\n"
     ]
    }
   ],
   "source": [
    "print(y_pred.shape)"
   ]
  },
  {
   "cell_type": "markdown",
   "metadata": {},
   "source": [
    "The code runs without errors, and the output shapes are correct. Although we don't know if anything reasonable is calculated.\n",
    "\n",
    "Try making predictions on all training data using the final model, and calculate the score (MCRMSE) on the training data."
   ]
  },
  {
   "cell_type": "code",
   "execution_count": 32,
   "metadata": {},
   "outputs": [],
   "source": [
    "# Run prediction on training data as a test run\n",
    "y_train_pred = run_prediction(X_torch, Adj_torch)"
   ]
  },
  {
   "cell_type": "code",
   "execution_count": 33,
   "metadata": {},
   "outputs": [],
   "source": [
    "# Calculate score on training data\n",
    "y_train_torch = torch.tensor(y_train.astype(float))\n",
    "y_train_pred_torch = torch.tensor(y_train_pred.astype(float))\n",
    "training_score = MCRMSE(y_train_torch, y_train_pred_torch, only_scored=False)\n",
    "training_score_only_scored = MCRMSE(y_train_torch, y_train_pred_torch, only_scored=True)"
   ]
  },
  {
   "cell_type": "code",
   "execution_count": 34,
   "metadata": {},
   "outputs": [
    {
     "name": "stdout",
     "output_type": "stream",
     "text": [
      "Mean score on training data, all 5 targets: 0.58124\n",
      "Mean score on training data, only scored targets: 0.5399\n"
     ]
    }
   ],
   "source": [
    "print(f\"Mean score on training data, all 5 targets: {float(torch.mean(training_score)):.5}\")\n",
    "print(f\"Mean score on training data, only scored targets: {float(torch.mean(training_score_only_scored)):.5}\")"
   ]
  },
  {
   "cell_type": "markdown",
   "metadata": {},
   "source": [
    " Very bad model, but the code runs :)"
   ]
  },
  {
   "cell_type": "markdown",
   "metadata": {},
   "source": [
    "### To do / log:\n",
    "* Reflect on what types of GNN models might be of interest for our project. GraphConv?\n",
    "* Do our own EDA, write out conclusions and ideas in notebook (work in progress)\n",
    "* Understand data, understand GNN, connect the two\n",
    "\n",
    "* Look at signal to noise, and SN filter. Should these be excluded/treated differently in training?\n",
    "* Reference notebook uses `structure` as node features. I do not see how this should improve the model, as the information from `structure` is already included in the structure adjacency matrix and the predicted loop type (`\"(\"` and `\")\"` correspond to loop type `\"S\"`).\n",
    "* Reference notebook also uses an \"interaction\" node feature. Maybe look up in literature what this is, and if it seems interesting to include. * On second thought, this does not seem to have any physical interpretation. Could look at 4th place solution for some more reasonable node feature ideas.\n",
    "\n",
    "13/5\n",
    "* Implement a simple GNN to go from arbitrary adjacency matrix A and node feature matrix X to targets Y.\n",
    "* For now, write a function that performs the GraphConv operation, as it is a quite simple function. \n",
    "* For future testing, install torch-geometric for ready implemented graph neural network functions. (Had some issues with CUDA and installation)\n",
    "* Decide if we in training iterate over samples, take all at once, or use smaller batches. (Probably batches with some k-fold validation)\n",
    "* Ran into some problems with tensor/numpy and float/double. Clean up code to find the mistakes.\n",
    "\n",
    "For next time:\n",
    "* Fix the errors with 'input must be tensor'/'expected float, got double', should be able to get model output after that. \n",
    "* Continue writing training function and make inference\n",
    "* When all of this works without errors, start improving the model/input features/training routine etc.\n",
    "\n",
    "14/5\n",
    "* Float/double issue solved by calling astype(float) on inputs (X and adjacency)\n",
    "* Input must be tensor issue solved by adding the nn.ReLU module instead of using relu from torch.nn.functional (not sure why this helped)\n",
    "* Should rewrite myGraphConv to take input shape (n_samples, n_nodes, n_features) so that one can iterate over batches rather than only single samples\n",
    "* Once things work, clean up the code/variable names and paste into main notebook/script.\n",
    "* Take a look at training loss, does not seem to actually train. Could be some problem with myGraphConv, when doing backpropagation. Or that it is just a poor model. Maybe try using a simple multi-layer perceptron model to see if that is as bad. \n",
    "* Implement training over mini-batches. Need to adjust myGraphConv."
   ]
  },
  {
   "cell_type": "code",
   "execution_count": null,
   "metadata": {},
   "outputs": [],
   "source": []
  }
 ],
 "metadata": {
  "kernelspec": {
   "display_name": "Python 3",
   "language": "python",
   "name": "python3"
  },
  "language_info": {
   "codemirror_mode": {
    "name": "ipython",
    "version": 3
   },
   "file_extension": ".py",
   "mimetype": "text/x-python",
   "name": "python",
   "nbconvert_exporter": "python",
   "pygments_lexer": "ipython3",
   "version": "3.8.5"
  },
  "metadata": {
   "interpreter": {
    "hash": "b6e7aa44a7d439fa282c0ba85474b11133df70cb8e5af25f06f3db395007d18d"
   }
  }
 },
 "nbformat": 4,
 "nbformat_minor": 2
}
