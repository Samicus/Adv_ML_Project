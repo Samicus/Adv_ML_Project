{
 "cells": [
  {
   "cell_type": "markdown",
   "metadata": {},
   "source": [
    "# Explorative Data Analysis\n",
    "\n",
    "Main EDA, paste useful ideas in this notebook."
   ]
  },
  {
   "cell_type": "code",
   "execution_count": 1,
   "metadata": {},
   "outputs": [],
   "source": [
    "# Import packages\n",
    "import json\n",
    "import pandas as pd  \n",
    "import numpy as np\n",
    "from tqdm.notebook import tqdm"
   ]
  },
  {
   "cell_type": "code",
   "execution_count": 2,
   "metadata": {},
   "outputs": [
    {
     "data": {
      "text/plain": [
       "index                                                                  0\n",
       "id                                                          id_001f94081\n",
       "sequence               GGAAAAGCUCUAAUAACAGGAGACUAGGACUACGUAUUUCUAGGUA...\n",
       "structure              .....((((((.......)))).)).((.....((..((((((......\n",
       "predicted_loop_type    EEEEESSSSSSHHHHHHHSSSSBSSXSSIIIIISSIISSSSSSHHH...\n",
       "signal_to_noise                                                    6.894\n",
       "SN_filter                                                              1\n",
       "seq_length                                                           107\n",
       "seq_scored                                                            68\n",
       "reactivity_error       [0.1359, 0.20700000000000002, 0.1633, 0.1452, ...\n",
       "deg_error_Mg_pH10      [0.26130000000000003, 0.38420000000000004, 0.1...\n",
       "deg_error_pH10         [0.2631, 0.28600000000000003, 0.0964, 0.1574, ...\n",
       "deg_error_Mg_50C       [0.1501, 0.275, 0.0947, 0.18660000000000002, 0...\n",
       "deg_error_50C          [0.2167, 0.34750000000000003, 0.188, 0.2124, 0...\n",
       "reactivity             [0.3297, 1.5693000000000001, 1.1227, 0.8686, 0...\n",
       "deg_Mg_pH10            [0.7556, 2.983, 0.2526, 1.3789, 0.637600000000...\n",
       "deg_pH10               [2.3375, 3.5060000000000002, 0.3008, 1.0108, 0...\n",
       "deg_Mg_50C             [0.35810000000000003, 2.9683, 0.2589, 1.4552, ...\n",
       "deg_50C                [0.6382, 3.4773, 0.9988, 1.3228, 0.78770000000...\n",
       "Name: 0, dtype: object"
      ]
     },
     "execution_count": 2,
     "metadata": {},
     "output_type": "execute_result"
    }
   ],
   "source": [
    "# Read data\n",
    "train = pd.read_json('data/train.json', lines=True) \n",
    "test = pd.read_json('data/test.json', lines=True) \n",
    "# Divide test data into the two subsets: Private Test and Public Test\n",
    "# seq_length=107 in Public Test while seq_length=130 in Private Test\n",
    "test_private = test[test[\"seq_length\"] == 107]\n",
    "test_public = test[test[\"seq_length\"] == 130]\n",
    "\n",
    "# Print the first sample for testing\n",
    "df = pd.DataFrame(train)\n",
    "df.iloc[0]"
   ]
  },
  {
   "cell_type": "code",
   "execution_count": 3,
   "metadata": {},
   "outputs": [],
   "source": [
    "# make adjecency matrix"
   ]
  },
  {
   "cell_type": "code",
   "execution_count": 4,
   "metadata": {},
   "outputs": [
    {
     "name": "stdout",
     "output_type": "stream",
     "text": [
      "(2400, 107, 107, 1)\n"
     ]
    }
   ],
   "source": [
    "## get adjacent matrix from structure sequence\n",
    "\n",
    "## here I calculate adjacent matrix of each base pair, \n",
    "## but eventually ignore difference of base pair and integrate into one matrix\n",
    "Ss = []\n",
    "for i in range(len(train)):\n",
    "    seq_length = train[\"seq_length\"].iloc[i]\n",
    "    structure = train[\"structure\"].iloc[i]\n",
    "    sequence = train[\"sequence\"].iloc[i]\n",
    "\n",
    "    cue = []\n",
    "    a_structures = {\n",
    "        (\"A\", \"U\") : np.zeros([seq_length, seq_length]),\n",
    "        (\"C\", \"G\") : np.zeros([seq_length, seq_length]),\n",
    "        (\"U\", \"G\") : np.zeros([seq_length, seq_length]),\n",
    "        (\"U\", \"A\") : np.zeros([seq_length, seq_length]),\n",
    "        (\"G\", \"C\") : np.zeros([seq_length, seq_length]),\n",
    "        (\"G\", \"U\") : np.zeros([seq_length, seq_length]),\n",
    "    }\n",
    "    a_structure = np.zeros([seq_length, seq_length])\n",
    "    for i in range(seq_length):\n",
    "        if structure[i] == \"(\":\n",
    "            cue.append(i)\n",
    "        elif structure[i] == \")\":\n",
    "            start = cue.pop()\n",
    "#                 a_structure[start, i] = 1\n",
    "#                 a_structure[i, start] = 1\n",
    "            a_structures[(sequence[start], sequence[i])][start, i] = 1\n",
    "            a_structures[(sequence[i], sequence[start])][i, start] = 1\n",
    "    \n",
    "    a_strc = np.stack([a for a in a_structures.values()], axis = 2)\n",
    "    a_strc = np.sum(a_strc, axis = 2, keepdims = True)\n",
    "    Ss.append(a_strc)\n",
    "\n",
    "Ss = np.array(Ss)\n",
    "print(Ss.shape)"
   ]
  },
  {
   "cell_type": "code",
   "execution_count": 5,
   "metadata": {},
   "outputs": [],
   "source": [
    "def get_struct_adj(data = train, sequential_edges = False):\n",
    "    # Get adjacency matrix from sample structure sequence\n",
    "    # Include edges between base pairs\n",
    "    # If sequential_edges == False, do not include edges between sequential bases\n",
    "    # If sequential_edges == True, add these edges, which correspond to the diagonals -1 and 1 in the adjacency matrix (assuming undirected edges)\n",
    "    struct_adj = []\n",
    "    for ix in range(len(data)):\n",
    "        seq_length = data[\"seq_length\"].iloc[ix]\n",
    "        structure = data[\"structure\"].iloc[ix]\n",
    "        sequence = data[\"sequence\"].iloc[ix]\n",
    "\n",
    "        queue = [] # Store indices corresponding to \"(\" in queue\n",
    "\n",
    "        sample_struct_adj = np.zeros([seq_length, seq_length])\n",
    "        for jx in range(seq_length):\n",
    "            if structure[jx] == \"(\":\n",
    "                queue.append(jx) # Append index of \"(\" in base pair to queue\n",
    "            elif structure[jx] == \")\":\n",
    "                start = queue.pop() # Retrieve index of last \"(\" in queue, corresponding to \")\" at jx\n",
    "                sample_struct_adj[start, jx] = 1 # Add edge from \"(\" to \")\"\n",
    "                sample_struct_adj[jx, start] = 1 # Add edge from \")\" to \"(\" (assume undirected)\n",
    "\n",
    "        if sequential_edges == True:\n",
    "            ones = np.ones(seq_length-1) # Match length of -1 and 1 diagonals in sample_struct_adj\n",
    "            sample_struct_adj += np.diag(ones,1) # Add sequential edges (i,i+1) \n",
    "            sample_struct_adj += np.diag(ones,-1) # Add sequential edges (i+1,i) (assume non-directed)\n",
    "\n",
    "        struct_adj.append(sample_struct_adj)\n",
    "\n",
    "    struct_adj = np.array(struct_adj)\n",
    "    return struct_adj "
   ]
  },
  {
   "cell_type": "code",
   "execution_count": 6,
   "metadata": {},
   "outputs": [
    {
     "data": {
      "image/png": "[encoded data removed]",
      "text/plain": [
       "<Figure size 432x288 with 1 Axes>"
      ]
     },
     "metadata": {},
     "output_type": "display_data"
    }
   ],
   "source": [
    "import networkx as nx \n",
    "  \n",
    "A  =  get_struct_adj(data=train, sequential_edges=True) # Include sequential edges\n",
    "A = A[0,:,:] # Take adjacency matrix of first sample\n",
    "\n",
    "# ones = np.ones(seq_length-1)\n",
    "# A += np.diag(ones,1) # add sequential edges (i,i+1) \n",
    "# A += np.diag(ones,-1) # add sequential edges (i+1,i) (assume non-directed)\n",
    "\n",
    "G = nx.from_numpy_matrix(np.array(A))\n",
    "nx.draw(G, with_labels=True)"
   ]
  },
  {
   "cell_type": "markdown",
   "metadata": {},
   "source": [
    "# About the data"
   ]
  },
  {
   "cell_type": "code",
   "execution_count": 12,
   "metadata": {},
   "outputs": [
    {
     "data": {
      "text/plain": [
       "(2400, 107, 107, 1)"
      ]
     },
     "execution_count": 12,
     "metadata": {},
     "output_type": "execute_result"
    }
   ],
   "source": [
    "Ss.shape"
   ]
  },
  {
   "cell_type": "code",
   "execution_count": 16,
   "metadata": {},
   "outputs": [
    {
     "data": {
      "text/plain": [
       "(2400, 107, 107)"
      ]
     },
     "execution_count": 16,
     "metadata": {},
     "output_type": "execute_result"
    }
   ],
   "source": []
  },
  {
   "cell_type": "code",
   "execution_count": null,
   "metadata": {},
   "outputs": [],
   "source": []
  },
  {
   "cell_type": "code",
   "execution_count": null,
   "metadata": {},
   "outputs": [],
   "source": []
  },
  {
   "cell_type": "code",
   "execution_count": null,
   "metadata": {},
   "outputs": [],
   "source": []
  },
  {
   "cell_type": "markdown",
   "metadata": {},
   "source": [
    "# Train network"
   ]
  },
  {
   "cell_type": "code",
   "execution_count": 16,
   "metadata": {},
   "outputs": [
    {
     "data": {
      "text/plain": [
       "(2400, 107, 107, 1)"
      ]
     },
     "execution_count": 16,
     "metadata": {},
     "output_type": "execute_result"
    }
   ],
   "source": [
    "# Adjacency matrix\n",
    "Ss.shape"
   ]
  },
  {
   "cell_type": "code",
   "execution_count": 22,
   "metadata": {},
   "outputs": [
    {
     "data": {
      "text/plain": [
       "(2400, 107, 1)"
      ]
     },
     "execution_count": 22,
     "metadata": {},
     "output_type": "execute_result"
    }
   ],
   "source": [
    "Ss[:,:,1].shape"
   ]
  },
  {
   "cell_type": "code",
   "execution_count": 2,
   "metadata": {},
   "outputs": [],
   "source": [
    "import torch\n",
    "from torch_geometric.nn import GraphConv"
   ]
  },
  {
   "cell_type": "code",
   "execution_count": 3,
   "metadata": {},
   "outputs": [],
   "source": [
    "class GraphClassifier(torch.nn.Module):\n",
    "    def __init__(self, hidden_channels):\n",
    "        super(GraphClassifier, self).__init__()\n",
    "        #torch.manual_seed(12345)\n",
    "        self.conv1 = GraphConv(dataset2.num_node_features, hidden_channels).double()\n",
    "        self.conv2 = GraphConv(hidden_channels, hidden_channels).double()\n",
    "        self.conv3 = GraphConv(hidden_channels, hidden_channels).double()\n",
    "        self.lin = Linear(hidden_channels,4).double()\n",
    "      \n",
    "\n",
    "    def forward(self, x, edge_index, edge_attr, batch):\n",
    "        # 1. Obtain node embeddings \n",
    "        x = self.conv1(x, edge_index,edge_attr)\n",
    "        #x = x.relu()\n",
    "        #x = self.conv2(x, edge_index,edge_attr)\n",
    "        #x = x.relu()\n",
    "       # x = self.conv3(x, edge_index,edge_attr)\n",
    "\n",
    "        # 2. Readout layer\n",
    "        #x = global_mean_pool(x, batch) \n",
    "\n",
    "        # 3. Apply a final classifier\n",
    "        #x = F.dropout(x, p=0.6, training=self.training)\n",
    "  \n",
    "        #Outpt layer\n",
    "       # x = F.softmax(self.lin(x),dim=1)\n",
    "        return x\n"
   ]
  },
  {
   "cell_type": "code",
   "execution_count": null,
   "metadata": {},
   "outputs": [],
   "source": []
  }
 ],
 "metadata": {
  "kernelspec": {
   "display_name": "Python 3",
   "language": "python",
   "name": "python3"
  },
  "language_info": {
   "codemirror_mode": {
    "name": "ipython",
    "version": 3
   },
   "file_extension": ".py",
   "mimetype": "text/x-python",
   "name": "python",
   "nbconvert_exporter": "python",
   "pygments_lexer": "ipython3",
   "version": "3.8.8"
  }
 },
 "nbformat": 4,
 "nbformat_minor": 2
}
