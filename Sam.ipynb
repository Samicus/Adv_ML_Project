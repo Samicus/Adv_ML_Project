{
 "cells": [
  {
   "cell_type": "code",
   "execution_count": 1,
   "metadata": {},
   "outputs": [],
   "source": [
    "# Import packages\n",
    "import json\n",
    "import pandas as pd  \n",
    "import numpy as np\n",
    "from tqdm.notebook import tqdm"
   ]
  },
  {
   "cell_type": "code",
   "execution_count": 2,
   "metadata": {},
   "outputs": [
    {
     "data": {
      "text/plain": [
       "index                                                                  0\n",
       "id                                                          id_001f94081\n",
       "sequence               GGAAAAGCUCUAAUAACAGGAGACUAGGACUACGUAUUUCUAGGUA...\n",
       "structure              .....((((((.......)))).)).((.....((..((((((......\n",
       "predicted_loop_type    EEEEESSSSSSHHHHHHHSSSSBSSXSSIIIIISSIISSSSSSHHH...\n",
       "signal_to_noise                                                    6.894\n",
       "SN_filter                                                              1\n",
       "seq_length                                                           107\n",
       "seq_scored                                                            68\n",
       "reactivity_error       [0.1359, 0.20700000000000002, 0.1633, 0.1452, ...\n",
       "deg_error_Mg_pH10      [0.26130000000000003, 0.38420000000000004, 0.1...\n",
       "deg_error_pH10         [0.2631, 0.28600000000000003, 0.0964, 0.1574, ...\n",
       "deg_error_Mg_50C       [0.1501, 0.275, 0.0947, 0.18660000000000002, 0...\n",
       "deg_error_50C          [0.2167, 0.34750000000000003, 0.188, 0.2124, 0...\n",
       "reactivity             [0.3297, 1.5693000000000001, 1.1227, 0.8686, 0...\n",
       "deg_Mg_pH10            [0.7556, 2.983, 0.2526, 1.3789, 0.637600000000...\n",
       "deg_pH10               [2.3375, 3.5060000000000002, 0.3008, 1.0108, 0...\n",
       "deg_Mg_50C             [0.35810000000000003, 2.9683, 0.2589, 1.4552, ...\n",
       "deg_50C                [0.6382, 3.4773, 0.9988, 1.3228, 0.78770000000...\n",
       "Name: 0, dtype: object"
      ]
     },
     "execution_count": 2,
     "metadata": {},
     "output_type": "execute_result"
    }
   ],
   "source": [
    "# Read data\n",
    "train = pd.read_json('data/train.json', lines=True) \n",
    "test = pd.read_json('data/test.json', lines=True) \n",
    "# Divide test data into the two subsets: Private Test and Public Test\n",
    "# seq_length=107 in Public Test while seq_length=130 in Private Test\n",
    "test_public = test[test[\"seq_length\"] == 107]\n",
    "test_private = test[test[\"seq_length\"] == 130]\n",
    "\n",
    "# Print the first sample for testing\n",
    "df = pd.DataFrame(train)\n",
    "df.iloc[0]"
   ]
  },
  {
   "cell_type": "code",
   "execution_count": 3,
   "metadata": {
    "scrolled": true
   },
   "outputs": [
    {
     "name": "stdout",
     "output_type": "stream",
     "text": [
      "(2400, 107, 107, 1)\n"
     ]
    }
   ],
   "source": [
    "## get adjacent matrix from structure sequence\n",
    "\n",
    "## here I calculate adjacent matrix of each base pair, \n",
    "## but eventually ignore difference of base pair and integrate into one matrix\n",
    "Ss = []\n",
    "for i in range(len(train)):\n",
    "    seq_length = train[\"seq_length\"].iloc[i]\n",
    "    structure = train[\"structure\"].iloc[i]\n",
    "    sequence = train[\"sequence\"].iloc[i]\n",
    "\n",
    "    cue = []\n",
    "    a_structures = {\n",
    "        (\"A\", \"U\") : np.zeros([seq_length, seq_length]),\n",
    "        (\"C\", \"G\") : np.zeros([seq_length, seq_length]),\n",
    "        (\"U\", \"G\") : np.zeros([seq_length, seq_length]),\n",
    "        (\"U\", \"A\") : np.zeros([seq_length, seq_length]),\n",
    "        (\"G\", \"C\") : np.zeros([seq_length, seq_length]),\n",
    "        (\"G\", \"U\") : np.zeros([seq_length, seq_length]),\n",
    "    }\n",
    "    a_structure = np.zeros([seq_length, seq_length])\n",
    "    for i in range(seq_length):\n",
    "        if structure[i] == \"(\":\n",
    "            cue.append(i)\n",
    "        elif structure[i] == \")\":\n",
    "            start = cue.pop()\n",
    "#                 a_structure[start, i] = 1\n",
    "#                 a_structure[i, start] = 1\n",
    "            a_structures[(sequence[start], sequence[i])][start, i] = 1\n",
    "            a_structures[(sequence[i], sequence[start])][i, start] = 1\n",
    "    \n",
    "    a_strc = np.stack([a for a in a_structures.values()], axis = 2)\n",
    "    a_strc = np.sum(a_strc, axis = 2, keepdims = True)\n",
    "    Ss.append(a_strc)\n",
    "\n",
    "Ss = np.array(Ss)\n",
    "print(Ss.shape)"
   ]
  },
  {
   "cell_type": "code",
   "execution_count": 4,
   "metadata": {},
   "outputs": [
    {
     "data": {
      "text/plain": [
       "46"
      ]
     },
     "execution_count": 4,
     "metadata": {},
     "output_type": "execute_result"
    }
   ],
   "source": [
    "# Check number of pairs (edges)\n",
    "np.sum(Ss[0,:,:,0] == 1)"
   ]
  },
  {
   "cell_type": "code",
   "execution_count": 5,
   "metadata": {},
   "outputs": [
    {
     "data": {
      "text/plain": [
       "23"
      ]
     },
     "execution_count": 5,
     "metadata": {},
     "output_type": "execute_result"
    }
   ],
   "source": [
    "# Count number of \"(\", should be half of number of pairs\n",
    "np.sum(Ss[0,:,:,0] == 1)\n",
    "counter_left_pair = 0\n",
    "for char in train[\"structure\"].iloc[0]:\n",
    "  if char == \"(\":\n",
    "    counter_left_pair += 1\n",
    "counter_left_pair"
   ]
  },
  {
   "cell_type": "code",
   "execution_count": 6,
   "metadata": {},
   "outputs": [],
   "source": [
    "Ss[0,:,:,0]\n",
    "struct_adj = Ss[0,:,:,0] # Reshape to (seq_length,seq_length)"
   ]
  },
  {
   "cell_type": "code",
   "execution_count": 7,
   "metadata": {},
   "outputs": [],
   "source": [
    "def get_struct_adj(data = train, sequential_edges = False):\n",
    "    # Get adjacency matrix from sample structure sequence\n",
    "    # Include edges between base pairs\n",
    "    # If sequential_edges == False, do not include edges between sequential bases\n",
    "    # If sequential_edges == True, add these edges, which correspond to the diagonals -1 and 1 in the adjacency matrix (assuming undirected edges)\n",
    "    struct_adj = []\n",
    "    for ix in range(len(data)):\n",
    "        seq_length = data[\"seq_length\"].iloc[ix]\n",
    "        structure = data[\"structure\"].iloc[ix]\n",
    "        sequence = data[\"sequence\"].iloc[ix]\n",
    "\n",
    "        queue = [] # Store indices corresponding to \"(\" in queue\n",
    "\n",
    "        sample_struct_adj = np.zeros([seq_length, seq_length])\n",
    "        for jx in range(seq_length):\n",
    "            if structure[jx] == \"(\":\n",
    "                queue.append(jx) # Append index of \"(\" in base pair to queue\n",
    "            elif structure[jx] == \")\":\n",
    "                start = queue.pop() # Retrieve index of last \"(\" in queue, corresponding to \")\" at jx\n",
    "                sample_struct_adj[start, jx] = 1 # Add edge from \"(\" to \")\"\n",
    "                sample_struct_adj[jx, start] = 1 # Add edge from \")\" to \"(\" (assume undirected)\n",
    "\n",
    "        if sequential_edges == True:\n",
    "            ones = np.ones(seq_length-1) # Match length of -1 and 1 diagonals in sample_struct_adj\n",
    "            sample_struct_adj += np.diag(ones,1) # Add sequential edges (i,i+1) \n",
    "            sample_struct_adj += np.diag(ones,-1) # Add sequential edges (i+1,i) (assume non-directed)\n",
    "\n",
    "        struct_adj.append(sample_struct_adj)\n",
    "\n",
    "    struct_adj = np.array(struct_adj)\n",
    "    return struct_adj "
   ]
  },
  {
   "cell_type": "code",
   "execution_count": 8,
   "metadata": {},
   "outputs": [
    {
     "name": "stdout",
     "output_type": "stream",
     "text": [
      "(2400, 107, 107)\n",
      "(2400, 107, 107, 1)\n"
     ]
    },
    {
     "data": {
      "text/plain": [
       "True"
      ]
     },
     "execution_count": 8,
     "metadata": {},
     "output_type": "execute_result"
    }
   ],
   "source": [
    "mySs = get_struct_adj(data = train)\n",
    "print(mySs.shape)\n",
    "mySs = mySs[:,:,:,np.newaxis] # Reshape to match structure adjacency from reference\n",
    "print(mySs.shape)\n",
    "\n",
    "# Check that the implementation is equivalent to reference\n",
    "np.array_equal(Ss,mySs)"
   ]
  },
  {
   "cell_type": "code",
   "execution_count": 9,
   "metadata": {},
   "outputs": [
    {
     "data": {
      "image/png": "[encoded data removed]",
      "text/plain": [
       "<Figure size 432x288 with 1 Axes>"
      ]
     },
     "metadata": {},
     "output_type": "display_data"
    }
   ],
   "source": [
    "import networkx as nx \n",
    "  \n",
    "A  =  get_struct_adj(data=train, sequential_edges=True) # Include sequential edges\n",
    "A = A[0,:,:] # Take adjacency matrix of first sample\n",
    "\n",
    "# ones = np.ones(seq_length-1)\n",
    "# A += np.diag(ones,1) # add sequential edges (i,i+1) \n",
    "# A += np.diag(ones,-1) # add sequential edges (i+1,i) (assume non-directed)\n",
    "\n",
    "G = nx.from_numpy_matrix(np.array(A))\n",
    "nx.draw(G, with_labels=True)"
   ]
  },
  {
   "cell_type": "code",
   "execution_count": 10,
   "metadata": {},
   "outputs": [
    {
     "data": {
      "image/png": "[encoded data removed]",
      "text/plain": [
       "<Figure size 432x288 with 1 Axes>"
      ]
     },
     "metadata": {},
     "output_type": "display_data"
    }
   ],
   "source": [
    "#  Try to make graph non-overlapping?\n",
    "spring = nx.spring_layout(G)\n",
    "nx.draw_networkx(G,spring)"
   ]
  },
  {
   "cell_type": "code",
   "execution_count": 11,
   "metadata": {},
   "outputs": [
    {
     "name": "stdout",
     "output_type": "stream",
     "text": [
      "(107, 107)\n"
     ]
    }
   ],
   "source": [
    "a = np.load('data/bpps/id_001f94081.npy') \n",
    "print(a.shape)"
   ]
  },
  {
   "cell_type": "code",
   "execution_count": 12,
   "metadata": {},
   "outputs": [],
   "source": [
    "# Look at edges for one of the paired bases (row index 5)\n",
    "struct_adj[5,:]\n",
    "bpps_base5 = a[5,:]"
   ]
  },
  {
   "cell_type": "code",
   "execution_count": 13,
   "metadata": {},
   "outputs": [
    {
     "data": {
      "text/plain": [
       "(array([24], dtype=int64),)"
      ]
     },
     "execution_count": 13,
     "metadata": {},
     "output_type": "execute_result"
    }
   ],
   "source": [
    "np.where(struct_adj[5,:] == 1) # Find pair of base with index 5"
   ]
  },
  {
   "cell_type": "code",
   "execution_count": 14,
   "metadata": {},
   "outputs": [
    {
     "data": {
      "text/plain": [
       "24"
      ]
     },
     "execution_count": 14,
     "metadata": {},
     "output_type": "execute_result"
    }
   ],
   "source": [
    "np.argmax(bpps_base5) # Find maximum base pair probability for base with index 5"
   ]
  },
  {
   "cell_type": "code",
   "execution_count": 15,
   "metadata": {},
   "outputs": [
    {
     "name": "stdout",
     "output_type": "stream",
     "text": [
      "[  0   1   2   3   4   5   6   7   8   9  10  11  12  13  14  15  16  17\n",
      "  18  19  20  21  22  23  24  25  26  27  28  29  30  31  32  33  34  35\n",
      "  36  37  38  39  40  41  42  43  44  45  46  47  48  49  50  51  52  53\n",
      "  54  55  56  57  58  59  60  61  62  63  64  65  66  67  68  69  70  71\n",
      "  72  73  74  75  76  77  78  79  80  81  82  83  84  85  86  87  88  89\n",
      "  90  91  92  93  94  95  96  97  98  99 100 101 102 103 104 105 106]\n",
      "(1, 107, 107)\n",
      "(2400, 107, 107)\n",
      "(2400, 107, 107, 3)\n"
     ]
    }
   ],
   "source": [
    "# Example snippet of creating distance matrix for training sample, where seq_length=107\n",
    "idx = np.arange(train[\"seq_length\"].iloc[0])\n",
    "Ds = []\n",
    "for i in range(len(idx)):\n",
    "    d = np.abs(idx[i] - idx)\n",
    "    Ds.append(d)\n",
    "print(Ds[0]) # Before converting absolute index distance to distance measure\n",
    "# Here Ds is a list of seq_length arrays, each with length seq_length\n",
    "\n",
    "Ds = np.array(Ds) + 1\n",
    "Ds = 1/Ds\n",
    "Ds = Ds[None, :,:] # Expand the dimensions of the array to allow stacking matrices for all samples \n",
    "print(Ds.shape)\n",
    "Ds = np.repeat(Ds, len(train), axis = 0) # Repeat the distance array for each sample (even though they are identical)\n",
    "# Here, Ds is transformed to the distance measured and reshaped into adjacency matrices for each sample, with values being the distance measure between nodes\n",
    "print(Ds.shape)\n",
    "\n",
    "Dss = []\n",
    "for i in [1, 2, 4]: \n",
    "    Dss.append(Ds ** i)\n",
    "Ds = np.stack(Dss, axis = 3)\n",
    "print(Ds.shape)\n",
    "# Here, the power in the denominator of the distance measure expression is applied, resulting in 3 different distance adjacency matrices for each sample"
   ]
  },
  {
   "cell_type": "code",
   "execution_count": 16,
   "metadata": {},
   "outputs": [],
   "source": [
    "def get_node_features(data = train):\n",
    "    # Create a node feature matrix for each sample in data\n",
    "    # Encode feature vectors as one-hot arrays  \n",
    "    # Included features: \n",
    "    #   Base (given by sequence)\n",
    "    #   Loop type (given by predicted_loop_type)\n",
    "    # Could also include sequence, i.e. \".\" \"(\" and \")\", but I don't see how this provides any interesting information if the structure adjacency matrix is used\n",
    "    X = [] # Stacked node feature matrices for all samples in data\n",
    "    \n",
    "    for ix in range(len(data)):\n",
    "        seq_length = data[\"seq_length\"].iloc[ix]\n",
    "        sequence = train[\"sequence\"].iloc[ix]\n",
    "        predicted_loop_type = train[\"predicted_loop_type\"].iloc[ix]\n",
    "\n",
    "        X_sample = [] # Node feature matrix for current sample\n",
    "\n",
    "        for jx in range(seq_length):\n",
    "            # Base one hot\n",
    "            bases = np.array(['A', 'G', 'U', 'C']) # Different order than reference notebook (A,G,C,U)\n",
    "            x_base = np.zeros(len(bases))\n",
    "            x_base[bases == sequence[jx]] = 1 # Set base one-hot to 1 at correct index\n",
    "\n",
    "            # Predicted Loop Type one hot\n",
    "            loop_types = np.array(['S', 'M', 'I', 'B', 'H', 'E', 'X'])\n",
    "            x_loop = np.zeros(len(loop_types))\n",
    "            x_loop[loop_types == predicted_loop_type[jx]] = 1 # Set loop-type one-hot to 1 at correct index\n",
    "\n",
    "            x = np.concatenate((x_base,x_loop)) # Concatenate to one node feature vector\n",
    "            X_sample.append(x) # Append node feature vector to node feature matrix\n",
    "        X_sample = np.array(X_sample)\n",
    "        X.append(X_sample) # Append node feature matrix for current graph\n",
    "    X = np.array(X)\n",
    "    return X\n",
    "X_tr = get_node_features(train)"
   ]
  },
  {
   "cell_type": "code",
   "execution_count": 17,
   "metadata": {},
   "outputs": [
    {
     "name": "stdout",
     "output_type": "stream",
     "text": [
      "(2400, 107, 11)\n",
      "[0. 1. 0. 0. 1. 0. 0. 0. 0. 0. 0.]\n",
      "G\n",
      "S\n"
     ]
    }
   ],
   "source": [
    "print(X_tr.shape)\n",
    "# Print feature vector of node 42 in sample 0 to see that the function assigns one hot correctly\n",
    "print(X_tr[0,42])\n",
    "print(train[\"sequence\"].iloc[0][42])\n",
    "print(train[\"predicted_loop_type\"].iloc[0][42])\n",
    "# First 4 are sequence one hot, last 7 are loop type one hot"
   ]
  },
  {
   "cell_type": "code",
   "execution_count": 18,
   "metadata": {},
   "outputs": [
    {
     "name": "stdout",
     "output_type": "stream",
     "text": [
      "[17, 18, 20, 24, 33, 34, 36, 40, 65, 66, 68, 72, 129, 130, 132, 136, 257, 258, 260, 264, 513, 514, 516, 520, 1025, 1026, 1028, 1032]\n",
      "(2400, 107, 39)\n"
     ]
    }
   ],
   "source": [
    "## sequence\n",
    "def return_ohe(n, i):\n",
    "    tmp = [0] * n\n",
    "    tmp[i] = 1\n",
    "    return tmp\n",
    "\n",
    "def get_input(train):\n",
    "    ## get node features, which is one hot encoded\n",
    "    mapping = {}\n",
    "    vocab = [\"A\", \"G\", \"C\", \"U\"]\n",
    "    for i, s in enumerate(vocab):\n",
    "        mapping[s] = return_ohe(len(vocab), i)\n",
    "    X_node = np.stack(train[\"sequence\"].apply(lambda x : list(map(lambda y : mapping[y], list(x)))))\n",
    "\n",
    "    mapping = {}\n",
    "    vocab = [\"S\", \"M\", \"I\", \"B\", \"H\", \"E\", \"X\"]\n",
    "    for i, s in enumerate(vocab):\n",
    "        mapping[s] = return_ohe(len(vocab), i)\n",
    "    X_loop = np.stack(train[\"predicted_loop_type\"].apply(lambda x : list(map(lambda y : mapping[y], list(x)))))\n",
    "    \n",
    "    mapping = {}\n",
    "    vocab = [\".\", \"(\", \")\"]\n",
    "    for i, s in enumerate(vocab):\n",
    "        mapping[s] = return_ohe(len(vocab), i)\n",
    "    X_structure = np.stack(train[\"structure\"].apply(lambda x : list(map(lambda y : mapping[y], list(x)))))\n",
    "    \n",
    "    \n",
    "    X_node = np.concatenate([X_node, X_loop], axis = 2)\n",
    "    \n",
    "    ## interaction\n",
    "    a = np.sum(X_node * (2 ** np.arange(X_node.shape[2])[None, None, :]), axis = 2)\n",
    "    vocab = sorted(set(a.flatten()))\n",
    "    print(vocab)\n",
    "    ohes = []\n",
    "    for v in vocab:\n",
    "        ohes.append(a == v)\n",
    "    ohes = np.stack(ohes, axis = 2)\n",
    "    X_node = np.concatenate([X_node, ohes], axis = 2).astype(np.float32)\n",
    "    \n",
    "    \n",
    "    print(X_node.shape)\n",
    "    return X_node\n",
    "\n",
    "X_node = get_input(train)"
   ]
  },
  {
   "cell_type": "code",
   "execution_count": 19,
   "metadata": {},
   "outputs": [
    {
     "name": "stdout",
     "output_type": "stream",
     "text": [
      "[0. 1. 0. 0. 1. 0. 0. 0. 0. 0. 0.]\n",
      "[0. 1. 0. 0. 1. 0. 0. 0. 0. 0. 0. 0. 1. 0. 0. 0. 0. 0. 0. 0. 0. 0. 0. 0.\n",
      " 0. 0. 0. 0. 0. 0. 0. 0. 0. 0. 0. 0. 0. 0. 0.]\n"
     ]
    }
   ],
   "source": [
    "print(X_tr[0,42])\n",
    "print(X_node[0,42])"
   ]
  },
  {
   "cell_type": "markdown",
   "metadata": {},
   "source": [
    "TARGET ARRAYS"
   ]
  },
  {
   "cell_type": "code",
   "execution_count": 49,
   "metadata": {},
   "outputs": [
    {
     "name": "stdout",
     "output_type": "stream",
     "text": [
      "(1350, 340)\n",
      "85\n"
     ]
    }
   ],
   "source": [
    "from torch.utils.data import DataLoader \n",
    "import torch\n",
    "target_labels = [\"reactivity\", \"deg_Mg_pH10\", \"deg_Mg_50C\", \"deg_pH10\", \"deg_50C\"]\n",
    "\n",
    "train_ae = train[train.signal_to_noise > 4].reset_index(drop = True) # remove noisy data\n",
    "y_train_ae = []\n",
    "seq_length = train_ae[\"seq_length\"].iloc[0] # Get number of nodes (lenght of sequence)\n",
    "#seq_scored = train_ae[\"seq_scored\"].iloc[0] # Get number of nodes with ground truth targets\n",
    "for target in target_labels:\n",
    "    y_ae = np.vstack(train_ae[target]) # Create (n_samples, seq_scored) arrays for each target\n",
    "    y_train_ae.append(y_ae) # Append array for each target\n",
    "y_train_ae = np.stack(y_train_ae, axis=2) # Join the target arrays along last axis to match shape of feature arrays\n",
    "y_train_ae = y_train_ae.reshape(y_train_ae.shape[0],-1).astype(float)\n",
    "print(y_train_ae.shape)\n",
    "\n",
    "y_train_loader = DataLoader(y_train_ae, batch_size=16, shuffle=True)\n",
    "print(len(y_train_loader))"
   ]
  },
  {
   "cell_type": "code",
   "execution_count": 68,
   "metadata": {},
   "outputs": [],
   "source": [
    "# Define MCRMSE loss function, taking one sample at a time \n",
    "# Inputs should have dimensions (n_nodes, n_targets)\n",
    "def MCRMSE_single(y_true, y_pred, only_scored=False):\n",
    "    # Extract the scored targets\n",
    "    seq_scored = train[\"seq_scored\"].iloc[0] # Get number of nodes with ground truth targets\n",
    "    y_pred = y_pred[:seq_scored, :] \n",
    "    # true = y_true[:seq_scored, :] # Not necessary since only scored targets are included, could include dummy values instead as in reference notebook\n",
    "\n",
    "    y_diff = y_pred - y_true\n",
    "    mse = torch.mean(y_diff**2, axis=0) # Average over nodes in each sample for every target\n",
    "    rmse = torch.sqrt(mse)\n",
    "    \n",
    "    num_scored = 5 # Include all targets by default\n",
    "    if only_scored == True:\n",
    "        num_scored = 3 # Include only scored targets if specified by keyword (assumes correct ordering of targets in y_true and y_pred)\n",
    "\n",
    "    mcrmse = torch.mean(rmse[:num_scored]) # Average over included targets\n",
    "\n",
    "    return mcrmse"
   ]
  },
  {
   "cell_type": "code",
   "execution_count": 33,
   "metadata": {},
   "outputs": [],
   "source": [
    "def MCRMSE(y_true, y_pred, only_scored=False):\n",
    "    # Extract the scored targets\n",
    "    seq_scored = train[\"seq_scored\"].iloc[0] # Get number of nodes with ground truth targets\n",
    "    y_pred = y_pred[:, :seq_scored, :] \n",
    "    # true = y_true[:, :seq_scored, :] # Not necessary since only scored targets are included, could include dummy values instead as in reference notebook\n",
    "\n",
    "    y_diff = y_pred - y_true\n",
    "    mse = torch.mean(y_diff**2, axis=1) # Average over nodes in each sample for every target\n",
    "    rmse = torch.sqrt(mse)\n",
    "    \n",
    "    num_scored = 5 # Include all targets by default\n",
    "    if only_scored == True:\n",
    "        num_scored = 3 # Include only scored targets if specified by keyword (assumes correct ordering of targets in y_true and y_pred)\n",
    "\n",
    "    mcrmse = torch.mean(rmse[:, :num_scored], axis=1) # Average over included targets\n",
    "\n",
    "    return mcrmse"
   ]
  },
  {
   "cell_type": "code",
   "execution_count": 118,
   "metadata": {},
   "outputs": [],
   "source": [
    "import torch\n",
    "from torch.nn import Linear\n",
    "from torch.nn import ReLU\n",
    "import torch.nn.functional as F\n",
    "import torch.optim as optim\n",
    "import torch.nn as nn\n",
    "import random\n",
    "\n",
    "class AE(nn.Module):\n",
    "  def __init__(self, **kwargs):\n",
    "    super(AE,self).__init__()\n",
    "    self.encoder=nn.Sequential(\n",
    "                  nn.Linear(kwargs[\"input_shape\"],512),\n",
    "                  nn.ReLU(True),\n",
    "                  nn.Linear(512,512),\n",
    "                  #nn.ReLU(True),\n",
    "                  #nn.Linear(512,512),\n",
    "                  #nn.ReLU(True)\n",
    "        \n",
    "                  )\n",
    "    \n",
    "    self.decoder=nn.Sequential(\n",
    "                  #nn.Linear(512,512),\n",
    "                  #nn.ReLU(True),\n",
    "                  nn.Linear(512,512),\n",
    "                  nn.ReLU(True),\n",
    "                  nn.Linear(512,kwargs[\"input_shape\"]),\n",
    "                  )\n",
    "    \n",
    " \n",
    "  def forward(self,x):\n",
    "    r = random.random()/2\n",
    "    x = F.dropout(x, p=r, training=True)\n",
    "    x=self.encoder(x)\n",
    "    x=self.decoder(x)\n",
    "    \n",
    "    return x "
   ]
  },
  {
   "cell_type": "code",
   "execution_count": 119,
   "metadata": {},
   "outputs": [
    {
     "name": "stdout",
     "output_type": "stream",
     "text": [
      "[1,          1] loss: 0.00430\n",
      "[2,          1] loss: 0.00432\n",
      "[3,          1] loss: 0.00395\n",
      "[4,          1] loss: 0.00387\n",
      "[5,          1] loss: 0.00345\n",
      "[6,          1] loss: 0.00297\n",
      "[7,          1] loss: 0.00198\n",
      "[8,          1] loss: 0.00161\n",
      "[9,          1] loss: 0.00171\n",
      "[10,          1] loss: 0.00128\n",
      "[11,          1] loss: 0.00149\n",
      "[12,          1] loss: 0.00150\n",
      "[13,          1] loss: 0.00132\n",
      "[14,          1] loss: 0.00170\n",
      "[15,          1] loss: 0.00149\n",
      "[16,          1] loss: 0.00166\n",
      "[17,          1] loss: 0.00144\n",
      "[18,          1] loss: 0.00168\n",
      "[19,          1] loss: 0.00177\n",
      "[20,          1] loss: 0.00151\n",
      "[21,          1] loss: 0.00161\n",
      "[22,          1] loss: 0.00135\n",
      "[23,          1] loss: 0.00188\n",
      "[24,          1] loss: 0.00177\n",
      "[25,          1] loss: 0.00148\n",
      "[26,          1] loss: 0.00157\n",
      "[27,          1] loss: 0.00153\n",
      "[28,          1] loss: 0.00152\n",
      "[29,          1] loss: 0.00174\n",
      "[30,          1] loss: 0.00179\n",
      "[31,          1] loss: 0.00181\n",
      "[32,          1] loss: 0.00170\n",
      "[33,          1] loss: 0.00163\n",
      "[34,          1] loss: 0.00138\n",
      "[35,          1] loss: 0.00158\n",
      "[36,          1] loss: 0.00161\n",
      "[37,          1] loss: 0.00146\n",
      "[38,          1] loss: 0.00144\n",
      "[39,          1] loss: 0.00192\n",
      "[40,          1] loss: 0.00147\n",
      "[41,          1] loss: 0.00182\n",
      "[42,          1] loss: 0.00143\n",
      "[43,          1] loss: 0.00165\n",
      "[44,          1] loss: 0.00147\n",
      "[45,          1] loss: 0.00156\n",
      "[46,          1] loss: 0.00152\n",
      "[47,          1] loss: 0.00160\n",
      "[48,          1] loss: 0.00198\n",
      "[49,          1] loss: 0.00165\n",
      "[50,          1] loss: 0.00146\n",
      "Finished Training\n"
     ]
    }
   ],
   "source": [
    "#Train AE_model\n",
    "\n",
    "autoencoder = AE(input_shape=340)\n",
    "mse = nn.MSELoss(reduction='mean')\n",
    "optimizer = optim.SGD(autoencoder.parameters(), lr=0.001, momentum=0.9)\n",
    "EPOCHS = 50\n",
    "\n",
    "for epoch in range(EPOCHS): \n",
    "\n",
    "    running_loss = 0.0\n",
    "    for i, data in enumerate(y_train_loader):\n",
    "        # get the inputs; data is a list of [inputs, labels]\n",
    "\n",
    "        # zero the parameter gradients\n",
    "        optimizer.zero_grad()\n",
    "        \n",
    "        # forward + backward + optimize\n",
    "        outputs = autoencoder(data.float())\n",
    "        loss = mse(data.float(), outputs)\n",
    "        loss.backward()\n",
    "        optimizer.step()\n",
    "\n",
    "        # print statistics\n",
    "        running_loss += loss.item()\n",
    "        if i % 100 == 0:    # print every 2000 mini-batches\n",
    "            print('[%d, %10d] loss: %.5f' %\n",
    "                  (epoch + 1, i + 1, running_loss / 100))\n",
    "            running_loss = 0.0\n",
    "\n",
    "print('Finished Training')\n"
   ]
  },
  {
   "cell_type": "code",
   "execution_count": 100,
   "metadata": {},
   "outputs": [
    {
     "name": "stdout",
     "output_type": "stream",
     "text": [
      "(2400, 68, 5)\n",
      "(2400, 68, 5)\n"
     ]
    }
   ],
   "source": [
    "autoencoder.eval()\n",
    "print(y_train.shape)\n",
    "for i in range(y_train.shape[0]):\n",
    "    y_train_tensor = torch.Tensor(y_train[i,:,:].astype(float).flatten())\n",
    "    \n",
    "    outputs = autoencoder(y_train_tensor)   \n",
    "    outputs = outputs.reshape(68,5)\n",
    "    y_train[i,:,:] = outputs.detach().numpy() \n",
    "print(y_train.shape)"
   ]
  },
  {
   "cell_type": "code",
   "execution_count": 82,
   "metadata": {},
   "outputs": [
    {
     "name": "stdout",
     "output_type": "stream",
     "text": [
      "(2400, 107, 11)\n",
      "(2400, 107, 107)\n"
     ]
    }
   ],
   "source": [
    "X = get_node_features(train)\n",
    "print(X.shape)\n",
    "A_pairs = get_struct_adj(data = train)\n",
    "print(A_pairs.shape)"
   ]
  },
  {
   "cell_type": "code",
   "execution_count": 83,
   "metadata": {},
   "outputs": [],
   "source": [
    "import torch\n",
    "from torch.nn import Linear\n",
    "from torch.nn import ReLU\n",
    "import torch.nn.functional as F"
   ]
  },
  {
   "cell_type": "code",
   "execution_count": 84,
   "metadata": {},
   "outputs": [],
   "source": [
    "class myGraphConv(torch.nn.Module):\n",
    "    \"\"\"\n",
    "    The graph neural network operator from the “Weisfeiler and Leman Go \n",
    "    Neural: Higher-order Graph Neural Networks” paper\n",
    "\n",
    "    x' = x_i W_1.T + (Adj x_i) W_2.T\n",
    "\n",
    "    Arguments:\n",
    "        in_channels (int): Number of features (size) of each input node\n",
    "        out_channels (int): Number of features (size) of each output node\n",
    "    \n",
    "    forward performs the graph neural network operation\n",
    "    Arguments:\n",
    "        x (torch tensor): The input node features of shape (n_nodes, in_channels) \n",
    "        Adj (torch tensor): The adjacency matrix of the graph of shape (n_nodes, n_nodes) \n",
    "    Returns: \n",
    "        x' (torch tensor): Output node feature matrix of shape (n_nodes, out_channels)\n",
    "    \"\"\"\n",
    "    # Notes:\n",
    "    ## Possibly change to allow x of shape (n_samples, n_nodes, in_channels) \n",
    "    ## and Adj of shape (n_samples, n_nodes, n_nodes).\n",
    "    ## Also should add boolean argument bias for the linear weights.\n",
    "    ## GraphConv seems to only use bias for W_2 if I understand the source code correctly\n",
    "    ## (see lin_r = ... bias=False).a\n",
    "\n",
    "\n",
    "    def __init__(self, in_channels, out_channels):\n",
    "        super(myGraphConv, self).__init__()\n",
    "\n",
    "        self.in_channels = in_channels\n",
    "        self.out_channels = out_channels\n",
    "\n",
    "        self.lin_1 = Linear(in_channels, out_channels, bias=True) # bias=False to match GraphConv? Check source code\n",
    "        self.lin_2 = Linear(in_channels, out_channels, bias=True)  \n",
    "\n",
    "        self.reset_parameters()\n",
    "   \n",
    "    def reset_parameters(self):\n",
    "        self.lin_1.reset_parameters()\n",
    "        self.lin_2.reset_parameters()\n",
    "\n",
    "    def forward(self, x, Adj):\n",
    "        # Shapes of arguments, weight matrices and output\n",
    "        # x: (n_nodes, in_channels)\n",
    "        # Adj: (n_nodes, n_nodes)\n",
    "        # W_1: (in_channels, out_channels)\n",
    "        # W_2: (in_channels, out_channels)\n",
    "        # out: (n_nodes, out_channels)\n",
    "        out = torch.matmul(Adj,x) # Calculate contributions from adjacent nodes, this is equivalent to summing over edge weights assuming Adj contains the edge weights\n",
    "        out = self.lin_2(out) # Multiply with weight matrix for adjacent nodes\n",
    "        out += self.lin_1(x) # Add contribution from self\n",
    "        return out\n",
    "\n",
    "    # The method that returns a printable representation of the operator, copy to match GraphConv source code \n",
    "    def __repr__(self):\n",
    "        return '{}({}, {})'.format(self.__class__.__name__, self.in_channels,\n",
    "                                   self.out_channels)\n"
   ]
  },
  {
   "cell_type": "code",
   "execution_count": 85,
   "metadata": {},
   "outputs": [],
   "source": [
    "class GNN(torch.nn.Module):\n",
    "    def __init__(self, hidden_channels):\n",
    "        super(GNN, self).__init__()\n",
    "        torch.manual_seed(12345) # For reproducible results\n",
    "        self.conv = myGraphConv(X.shape[2], hidden_channels) # This uses my implementation of GraphConv. Change to torch-geometric version when possible\n",
    "        self.lin = Linear(hidden_channels, 5) # Map to the 5 output targets with dense layer\n",
    "        self.relu = ReLU()\n",
    "\n",
    "    def forward(self, x, Adj):\n",
    "        # 1. Obtain node embeddings, use GraphConv layers with ReLU for non-linearity\n",
    "        x = self.conv(x, Adj) # Give adjacency matrix instead of edge_index and edge_weight\n",
    "        x = self.relu(x)\n",
    "\n",
    "        # 2. Readout layer\n",
    "        # No pooling is required, we want target labels for each node, not for the entire graph\n",
    "\n",
    "        # 3. Apply a final classifier \n",
    "        # Use a single layer as classifier to map to the targets\n",
    "        x = self.lin(x)\n",
    "\n",
    "        # No LogSoftmax needed, possibly some other function to map to correct targets?\n",
    "\n",
    "        return x\n",
    "    "
   ]
  },
  {
   "cell_type": "code",
   "execution_count": 86,
   "metadata": {},
   "outputs": [],
   "source": [
    "# Define MCRMSE loss function\n",
    "# Include all 5 targets by default, allow optional argument to calculate MCRMSE of scored targets only.\n",
    "# Assumes targets are ordered such that the first 3 targets are the scored ones.\n",
    "# Inputs should have dimensions (n_samples, n_nodes, n_targets)\n",
    "def MCRMSE(y_true, y_pred, only_scored=False):\n",
    "    # Extract the scored targets\n",
    "    seq_scored = train[\"seq_scored\"].iloc[0] # Get number of nodes with ground truth targets\n",
    "    y_pred = y_pred[:, :seq_scored, :] \n",
    "    # true = y_true[:, :seq_scored, :] # Not necessary since only scored targets are included, could include dummy values instead as in reference notebook\n",
    "\n",
    "    y_diff = y_pred - y_true\n",
    "    mse = torch.mean(y_diff**2, axis=1) # Average over nodes in each sample for every target\n",
    "    rmse = torch.sqrt(mse)\n",
    "    \n",
    "    num_scored = 5 # Include all targets by default\n",
    "    if only_scored == True:\n",
    "        num_scored = 3 # Include only scored targets if specified by keyword (assumes correct ordering of targets in y_true and y_pred)\n",
    "\n",
    "    mcrmse = torch.mean(rmse[:, :num_scored], axis=1) # Average over included targets\n",
    "\n",
    "    return mcrmse"
   ]
  },
  {
   "cell_type": "code",
   "execution_count": 87,
   "metadata": {},
   "outputs": [
    {
     "data": {
      "text/plain": [
       "'\\n# Define MCRMSE loss function, taking one sample at a time \\n# Inputs should have dimensions (n_nodes, n_targets)\\ndef MCRMSE_single(y_true, y_pred, only_scored=False):\\n    # Extract the scored targets\\n    seq_scored = train[\"seq_scored\"].iloc[0] # Get number of nodes with ground truth targets\\n    y_pred = y_pred[:seq_scored, :] \\n    # true = y_true[:seq_scored, :] # Not necessary since only scored targets are included, could include dummy values instead as in reference notebook\\n\\n    y_diff = y_pred - y_true\\n    mse = torch.mean(y_diff**2, axis=0) # Average over nodes in each sample for every target\\n    rmse = torch.sqrt(mse)\\n    \\n    num_scored = 5 # Include all targets by default\\n    if only_scored == True:\\n        num_scored = 3 # Include only scored targets if specified by keyword (assumes correct ordering of targets in y_true and y_pred)\\n\\n    mcrmse = torch.mean(rmse[:num_scored]) # Average over included targets\\n\\n    return mcrmse\\n'"
      ]
     },
     "execution_count": 87,
     "metadata": {},
     "output_type": "execute_result"
    }
   ],
   "source": [
    "\"\"\"\n",
    "# Define MCRMSE loss function, taking one sample at a time \n",
    "# Inputs should have dimensions (n_nodes, n_targets)\n",
    "def MCRMSE_single(y_true, y_pred, only_scored=False):\n",
    "    # Extract the scored targets\n",
    "    seq_scored = train[\"seq_scored\"].iloc[0] # Get number of nodes with ground truth targets\n",
    "    y_pred = y_pred[:seq_scored, :] \n",
    "    # true = y_true[:seq_scored, :] # Not necessary since only scored targets are included, could include dummy values instead as in reference notebook\n",
    "\n",
    "    y_diff = y_pred - y_true\n",
    "    mse = torch.mean(y_diff**2, axis=0) # Average over nodes in each sample for every target\n",
    "    rmse = torch.sqrt(mse)\n",
    "    \n",
    "    num_scored = 5 # Include all targets by default\n",
    "    if only_scored == True:\n",
    "        num_scored = 3 # Include only scored targets if specified by keyword (assumes correct ordering of targets in y_true and y_pred)\n",
    "\n",
    "    mcrmse = torch.mean(rmse[:num_scored]) # Average over included targets\n",
    "\n",
    "    return mcrmse\n",
    "\"\"\""
   ]
  },
  {
   "cell_type": "code",
   "execution_count": 101,
   "metadata": {},
   "outputs": [
    {
     "name": "stdout",
     "output_type": "stream",
     "text": [
      "GNN(\n",
      "  (conv): myGraphConv(11, 64)\n",
      "  (lin): Linear(in_features=64, out_features=5, bias=True)\n",
      "  (relu): ReLU()\n",
      ")\n",
      "[sample   200] loss: 0.273\n",
      "[sample   400] loss: 0.261\n",
      "[sample   600] loss: 0.258\n",
      "[sample   800] loss: 0.258\n",
      "[sample  1000] loss: 0.237\n",
      "[sample  1200] loss: 0.254\n",
      "[sample  1400] loss: 0.260\n",
      "[sample  1600] loss: 0.262\n",
      "[sample  1800] loss: 0.239\n",
      "[sample  2000] loss: 0.238\n",
      "[sample  2200] loss: 0.253\n",
      "[sample  2400] loss: 0.260\n"
     ]
    }
   ],
   "source": [
    "# Instantiate GNN model, optimizer and loss function\n",
    "model = GNN(hidden_channels=64)\n",
    "print(model)\n",
    "optimizer = torch.optim.Adam(model.parameters(), lr=0.01) # Adjust learning rate\n",
    "criterion = MCRMSE_single # Mean column-wise root mean square error (MCRMSE) loss\n",
    "\n",
    "# Define trainer function for GNN\n",
    "def run_training(X_data, Adj_data):\n",
    "    model.train()\n",
    "    running_loss = 0 # For printing training loss\n",
    "    for ix in range(len(X_data)):  # Iterate over samples in the training dataset\n",
    "        out = model(X_data[ix,:,:], Adj_data[ix,:,:]) # Perform a single forward pass.\n",
    "    # out = model(X_data, Adj_data) # all in one pass, no for loop\n",
    "        loss = criterion(torch.tensor(y_train[ix,:,:].astype(float)), out)  # Compute the loss. Convert target vector to float (apparently important for back-propagation)\n",
    "        loss.backward()  # Derive gradients\n",
    "        optimizer.step()  # Update parameters based on gradients\n",
    "        optimizer.zero_grad()  # Clear gradients\n",
    "\n",
    "        # Print statistics\n",
    "        running_loss += loss.item()\n",
    "        if ix % 200 == 199:    # Print average loss every 200 mini-batches (every 200 samples in this case)\n",
    "            print('[sample %5d] loss: %.3f' %\n",
    "                    (ix + 1, running_loss / 200))\n",
    "            running_loss = 0.0 # Reset running loss\n",
    "# Convert training data inputs to pytorch tensors and run training\n",
    "X_torch = torch.tensor(X.astype(np.float32))\n",
    "Adj_torch = torch.tensor(A_pairs.astype(np.float32))\n",
    "run_training(X_torch, Adj_torch)\n"
   ]
  },
  {
   "cell_type": "code",
   "execution_count": 89,
   "metadata": {},
   "outputs": [
    {
     "name": "stdout",
     "output_type": "stream",
     "text": [
      "(629, 107, 11)\n",
      "(629, 107, 107)\n"
     ]
    }
   ],
   "source": [
    "X_test_public = get_node_features(data = test_public)\n",
    "print(X_test_public.shape)\n",
    "A_test_public = get_struct_adj(data = test_public)\n",
    "print(A_test_public.shape)"
   ]
  },
  {
   "cell_type": "code",
   "execution_count": 90,
   "metadata": {},
   "outputs": [],
   "source": [
    "# Define prediction function\n",
    "def run_prediction(X_data, Adj_data):\n",
    "    model.eval()\n",
    "    y_pred = []\n",
    "    for ix in range(len(X_data)): \n",
    "        out = model(X_data[ix,:,:], Adj_data[ix,:,:]) # Perform a single forward pass.\n",
    "        y_pred.append(out.detach().numpy())\n",
    "    y_pred = np.array(y_pred)\n",
    "    return y_pred\n",
    "# Convert test data inputs to pytorch tensors and run prediction\n",
    "X_test_public_torch = torch.tensor(X_test_public.astype(np.float32))\n",
    "A_test_public_torch = torch.tensor(A_test_public.astype(np.float32))\n",
    "y_pred = run_prediction(X_test_public_torch, A_test_public_torch)\n"
   ]
  },
  {
   "cell_type": "code",
   "execution_count": 91,
   "metadata": {},
   "outputs": [
    {
     "name": "stdout",
     "output_type": "stream",
     "text": [
      "(629, 107, 5)\n"
     ]
    }
   ],
   "source": [
    "print(y_pred.shape)"
   ]
  },
  {
   "cell_type": "code",
   "execution_count": 92,
   "metadata": {},
   "outputs": [],
   "source": [
    "# Run prediction on training data as a test run\n",
    "y_train_pred = run_prediction(X_torch, Adj_torch)"
   ]
  },
  {
   "cell_type": "code",
   "execution_count": 106,
   "metadata": {},
   "outputs": [
    {
     "name": "stdout",
     "output_type": "stream",
     "text": [
      "(2400, 68, 5)\n"
     ]
    }
   ],
   "source": [
    "target_labels = [\"reactivity\", \"deg_Mg_pH10\", \"deg_Mg_50C\", \"deg_pH10\", \"deg_50C\"]\n",
    "\n",
    "y_train = []\n",
    "seq_length = train[\"seq_length\"].iloc[0] # Get number of nodes (lenght of sequence)\n",
    "seq_scored = train[\"seq_scored\"].iloc[0] # Get number of nodes with ground truth targets\n",
    "for target in target_labels:\n",
    "    y = np.vstack(train[target]) # Create (n_samples, seq_scored) arrays for each target\n",
    "    y_train.append(y) # Append array for each target\n",
    "y_train = np.stack(y_train, axis=2) # Join the target arrays along last axis to match shape of feature arrays\n",
    "print(y_train.shape)\n"
   ]
  },
  {
   "cell_type": "code",
   "execution_count": null,
   "metadata": {},
   "outputs": [],
   "source": []
  },
  {
   "cell_type": "code",
   "execution_count": 107,
   "metadata": {},
   "outputs": [],
   "source": [
    "# Calculate score on training data\n",
    "y_train_torch = torch.tensor(y_train.astype(float))\n",
    "y_train_pred_torch = torch.tensor(y_train_pred.astype(float))\n",
    "training_score = MCRMSE(y_train_torch, y_train_pred_torch, only_scored=False)\n",
    "training_score_only_scored = MCRMSE(y_train_torch, y_train_pred_torch, only_scored=True)"
   ]
  },
  {
   "cell_type": "code",
   "execution_count": 96,
   "metadata": {},
   "outputs": [
    {
     "name": "stdout",
     "output_type": "stream",
     "text": [
      "Mean score on training data, all 5 targets: 0.60481\n",
      "Mean score on training data, only scored targets: 0.56616\n"
     ]
    }
   ],
   "source": [
    "print(f\"Mean score on training data, all 5 targets: {float(torch.mean(training_score)):.5}\")\n",
    "print(f\"Mean score on training data, only scored targets: {float(torch.mean(training_score_only_scored)):.5}\")"
   ]
  },
  {
   "cell_type": "code",
   "execution_count": null,
   "metadata": {},
   "outputs": [],
   "source": []
  },
  {
   "cell_type": "code",
   "execution_count": null,
   "metadata": {},
   "outputs": [],
   "source": []
  },
  {
   "cell_type": "code",
   "execution_count": null,
   "metadata": {},
   "outputs": [],
   "source": []
  }
 ],
 "metadata": {
  "kernelspec": {
   "display_name": "Python 3",
   "language": "python",
   "name": "python3"
  },
  "language_info": {
   "codemirror_mode": {
    "name": "ipython",
    "version": 3
   },
   "file_extension": ".py",
   "mimetype": "text/x-python",
   "name": "python",
   "nbconvert_exporter": "python",
   "pygments_lexer": "ipython3",
   "version": "3.8.5"
  }
 },
 "nbformat": 4,
 "nbformat_minor": 4
}
